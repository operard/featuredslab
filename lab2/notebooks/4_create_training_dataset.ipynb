{
 "cells": [
  {
   "cell_type": "markdown",
   "id": "b4d70b3f",
   "metadata": {},
   "source": [
    "---\n",
    "title: \"Create training dataset from online feature store enabled feature groups\"\n",
    "date: 2021-04-25\n",
    "type: technical_note\n",
    "draft: false\n",
    "---"
   ]
  },
  {
   "cell_type": "markdown",
   "id": "8fe13e0c",
   "metadata": {},
   "source": [
    "# Create a training dataset"
   ]
  },
  {
   "cell_type": "markdown",
   "id": "af6e9835",
   "metadata": {},
   "source": [
    "![overview-4.png](./images/overview-4.png)"
   ]
  },
  {
   "cell_type": "markdown",
   "id": "b0e5addf",
   "metadata": {},
   "source": [
    "### Establish a connection with your Hopsworks feature store."
   ]
  },
  {
   "cell_type": "code",
   "execution_count": 1,
   "id": "ad5c00f3",
   "metadata": {},
   "outputs": [
    {
     "name": "stdout",
     "output_type": "stream",
     "text": [
      "Starting Spark application\n"
     ]
    },
    {
     "data": {
      "text/html": [
       "<table>\n",
       "<tr><th>ID</th><th>YARN Application ID</th><th>Kind</th><th>State</th><th>Spark UI</th><th>Driver log</th></tr><tr><td>12</td><td>application_1624217841399_0004</td><td>pyspark</td><td>idle</td><td><a target=\"_blank\" href=\"/hopsworks-api/yarnui/https://featureds11:8089/proxy/application_1624217841399_0004/\">Link</a></td><td><a target=\"_blank\" href=\"/hopsworks-api/yarnui/https://featureds11:8044/node/containerlogs/container_e06_1624217841399_0004_01_000001/Lab2__meb10000\">Link</a></td></tr></table>"
      ],
      "text/plain": [
       "<IPython.core.display.HTML object>"
      ]
     },
     "metadata": {},
     "output_type": "display_data"
    },
    {
     "name": "stdout",
     "output_type": "stream",
     "text": [
      "SparkSession available as 'spark'.\n",
      "Connected. Call `.close()` to terminate connection gracefully."
     ]
    }
   ],
   "source": [
    "import hsfs\n",
    "connection = hsfs.connection()\n",
    "# get a reference to the feature store, you can access also shared feature stores by providing the feature store name\n",
    "fs = connection.get_feature_store()"
   ]
  },
  {
   "cell_type": "markdown",
   "id": "2c950f5c",
   "metadata": {},
   "source": [
    "## Get feature groups"
   ]
  },
  {
   "cell_type": "code",
   "execution_count": 2,
   "id": "d97346d3",
   "metadata": {},
   "outputs": [],
   "source": [
    "card_transactions_10m_agg = fs.get_feature_group(\"card_transactions_10m_agg\", version = 1)\n",
    "card_transactions_1h_agg = fs.get_feature_group(\"card_transactions_1h_agg\", version = 1)\n",
    "card_transactions_12h_agg = fs.get_feature_group(\"card_transactions_12h_agg\", version = 1)"
   ]
  },
  {
   "cell_type": "markdown",
   "id": "ce8a11ed",
   "metadata": {},
   "source": [
    "## Create training dataset"
   ]
  },
  {
   "cell_type": "code",
   "execution_count": 3,
   "id": "58a1af53",
   "metadata": {},
   "outputs": [],
   "source": [
    "query = card_transactions_10m_agg.select([\"stdev_amt_per_10m\", \"avg_amt_per_10m\", \"num_trans_per_10m\"])\\\n",
    "                                 .join(card_transactions_1h_agg.select([\"stdev_amt_per_1h\", \"avg_amt_per_1h\", \"num_trans_per_1h\"]))\\\n",
    "                                 .join(card_transactions_12h_agg.select([\"stdev_amt_per_12h\", \"avg_amt_per_12h\", \"num_trans_per_12h\"]))"
   ]
  },
  {
   "cell_type": "code",
   "execution_count": 4,
   "id": "7f7eb0a7",
   "metadata": {},
   "outputs": [
    {
     "name": "stdout",
     "output_type": "stream",
     "text": [
      "+-----------------+---------------+-----------------+------------------+------------------+----------------+------------------+------------------+-----------------+\n",
      "|stdev_amt_per_10m|avg_amt_per_10m|num_trans_per_10m|  stdev_amt_per_1h|    avg_amt_per_1h|num_trans_per_1h| stdev_amt_per_12h|   avg_amt_per_12h|num_trans_per_12h|\n",
      "+-----------------+---------------+-----------------+------------------+------------------+----------------+------------------+------------------+-----------------+\n",
      "|              NaN|          12.86|                1|  414.357502707505|325.96500000000003|               2| 2206.836719540488|          1170.733|               10|\n",
      "|              NaN|        2889.73|                1|119.21702101629616|             71.92|               3|1135.5953586118019|501.29560000000004|               25|\n",
      "|              NaN|          23.88|                1|14.191633098414009|            57.465|               2|2472.6079992350305|1454.2791666666665|               12|\n",
      "|              NaN|        8861.38|                1|1886.8412786011795|1690.5966666666666|               3| 2210.243653908099|1100.9855555555553|               27|\n",
      "|              NaN|        6718.62|                1| 8.541849916733495|24.130000000000003|               2|3169.1349921697006| 2352.922222222222|                9|\n",
      "|              NaN|            0.3|                1|               NaN|             54.69|               1|2325.5216146876774|1326.8093749999998|               16|\n",
      "|              NaN|        6330.12|                1| 4231.430814377882|           2302.46|               4| 2182.275527658684| 843.6957142857144|               28|\n",
      "|499.2527428567618|        403.975|                2|  3.86080302527855|             37.33|               2|  2670.52213095531|1072.7346428571432|               28|\n",
      "|              NaN|          82.43|                1|               NaN|             32.05|               1|370.50274420281715|327.75272727272727|               11|\n",
      "|              NaN|          23.37|                1|               NaN|            773.63|               1|1762.3357827407838| 859.0042857142856|                7|\n",
      "|              NaN|          30.81|                1|19.963529247104578|             53.76|               3| 2342.514768141688|1025.0642857142857|                7|\n",
      "|              NaN|           1.46|                1|3270.2216745709047|1949.4766666666667|               3|1624.2420274010808| 662.8304545454546|               22|\n",
      "|              NaN|           81.3|                1|               NaN|             851.7|               1| 707.0668101427577|318.78363636363633|               11|\n",
      "|              NaN|          69.28|                1|               NaN|             11.78|               1|2131.9786279071322| 747.2144444444444|                9|\n",
      "|              NaN|           4.25|                1|               NaN|            667.41|               1|251.34514769535537|134.48499999999999|                6|\n",
      "|              NaN|          19.87|                1|               NaN|              18.1|               1| 2006.414864994201|1097.6683333333333|               12|\n",
      "|              NaN|         502.85|                1|34.902790719367985|             73.93|               2| 783.2204454670898|          362.8668|               25|\n",
      "|              NaN|           1.51|                1| 1676.180159911219|1328.4360000000001|               5| 897.9368167318131|477.53769230769245|               26|\n",
      "|              NaN|          66.49|                1|               NaN|            617.09|               1| 2230.340810216133| 861.3660000000002|               10|\n",
      "|              NaN|        6541.89|                1|               NaN|           8902.28|               1|1780.1532756427132| 814.8774074074072|               27|\n",
      "+-----------------+---------------+-----------------+------------------+------------------+----------------+------------------+------------------+-----------------+\n",
      "only showing top 20 rows"
     ]
    }
   ],
   "source": [
    "query.show(20)"
   ]
  },
  {
   "cell_type": "code",
   "execution_count": 5,
   "id": "1d3bf334",
   "metadata": {},
   "outputs": [],
   "source": [
    "td_meta = fs.create_training_dataset(name=\"card_fraud_model\",\n",
    "                               description=\"Training dataset to train card fraud model\",\n",
    "                               data_format=\"tfrecord\",      \n",
    "                               statistics_config={\"enabled\": True, \"histograms\": True, \"correlations\": False},\n",
    "                               version=1)"
   ]
  },
  {
   "cell_type": "code",
   "execution_count": 6,
   "id": "8964733c",
   "metadata": {},
   "outputs": [
    {
     "name": "stdout",
     "output_type": "stream",
     "text": [
      "<hsfs.training_dataset.TrainingDataset object at 0x7fd8b2329dd0>"
     ]
    }
   ],
   "source": [
    "td_meta.save(query)"
   ]
  },
  {
   "cell_type": "code",
   "execution_count": 7,
   "id": "52d9821e",
   "metadata": {},
   "outputs": [
    {
     "name": "stdout",
     "output_type": "stream",
     "text": [
      "++\n",
      "||\n",
      "++\n",
      "||\n",
      "||\n",
      "||\n",
      "||\n",
      "||\n",
      "||\n",
      "||\n",
      "||\n",
      "||\n",
      "||\n",
      "||\n",
      "||\n",
      "||\n",
      "||\n",
      "||\n",
      "||\n",
      "||\n",
      "||\n",
      "||\n",
      "||\n",
      "++\n",
      "only showing top 20 rows"
     ]
    }
   ],
   "source": [
    "td_meta.read().show()"
   ]
  },
  {
   "cell_type": "markdown",
   "id": "188b76ee",
   "metadata": {},
   "source": [
    "# Save to CSV"
   ]
  },
  {
   "cell_type": "code",
   "execution_count": 14,
   "id": "b0001c0f",
   "metadata": {},
   "outputs": [],
   "source": [
    "td_meta_csv = fs.create_training_dataset(name=\"card_fraud_model_csv\",\n",
    "                               description=\"Training dataset to train card fraud model CSV\",\n",
    "                               data_format=\"csv\",\n",
    "                               statistics_config={\"enabled\": False, \"histograms\": False, \"correlations\": False},\n",
    "                               version=1)"
   ]
  },
  {
   "cell_type": "code",
   "execution_count": 15,
   "id": "c8a0321b",
   "metadata": {},
   "outputs": [
    {
     "name": "stdout",
     "output_type": "stream",
     "text": [
      "<hsfs.training_dataset.TrainingDataset object at 0x7fd8b22bcf90>"
     ]
    }
   ],
   "source": [
    "td_meta_csv.save(query)"
   ]
  },
  {
   "cell_type": "markdown",
   "id": "91fabfda",
   "metadata": {},
   "source": [
    "## Check descriptive statistics"
   ]
  },
  {
   "cell_type": "code",
   "execution_count": 8,
   "id": "a181bd0f",
   "metadata": {},
   "outputs": [
    {
     "name": "stderr",
     "output_type": "stream",
     "text": [
      "An error was encountered:\n",
      "__init__() missing 1 required positional argument: 'feature_group_commit_id'\n",
      "Traceback (most recent call last):\n",
      "  File \"/srv/hops/anaconda/envs/theenv/lib/python3.7/site-packages/hsfs/training_dataset.py\", line 568, in get_statistics\n",
      "    return self.statistics\n",
      "  File \"/srv/hops/anaconda/envs/theenv/lib/python3.7/site-packages/hsfs/training_dataset.py\", line 554, in statistics\n",
      "    return self._statistics_engine.get_last(self)\n",
      "  File \"/srv/hops/anaconda/envs/theenv/lib/python3.7/site-packages/hsfs/core/statistics_engine.py\", line 78, in get_last\n",
      "    return self._statistics_api.get_last(metadata_instance)\n",
      "  File \"/srv/hops/anaconda/envs/theenv/lib/python3.7/site-packages/hsfs/core/statistics_api.py\", line 90, in get_last\n",
      "    _client._send_request(\"GET\", path_params, query_params, headers=headers)\n",
      "  File \"/srv/hops/anaconda/envs/theenv/lib/python3.7/site-packages/hsfs/statistics.py\", line 46, in from_response_json\n",
      "    return cls(**json_decamelized[\"items\"][0])\n",
      "TypeError: __init__() missing 1 required positional argument: 'feature_group_commit_id'\n",
      "\n"
     ]
    }
   ],
   "source": [
    "td_meta = fs.get_training_dataset(\"card_fraud_model\", 1)\n",
    "statistics = td_meta.get_statistics()\n",
    "\n",
    "for feat_list in statistics.content.items():\n",
    "    for stats in feat_list[1]:\n",
    "        print(\"Feature: \" + str(stats['column']))\n",
    "        print(stats)"
   ]
  },
  {
   "cell_type": "code",
   "execution_count": null,
   "id": "447faf98",
   "metadata": {},
   "outputs": [],
   "source": []
  }
 ],
 "metadata": {
  "kernelspec": {
   "display_name": "PySpark",
   "language": "python",
   "name": "pysparkkernel"
  },
  "language_info": {
   "codemirror_mode": {
    "name": "python",
    "version": 3
   },
   "mimetype": "text/x-python",
   "name": "pyspark",
   "pygments_lexer": "python3"
  }
 },
 "nbformat": 4,
 "nbformat_minor": 5
}