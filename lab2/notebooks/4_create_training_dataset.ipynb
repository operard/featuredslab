{
 "cells": [
  {
   "cell_type": "markdown",
   "id": "75e650a6",
   "metadata": {},
   "source": [
    "---\n",
    "title: \"Create training dataset from online feature store enabled feature groups\"\n",
    "date: 2021-04-25\n",
    "type: technical_note\n",
    "draft: false\n",
    "---"
   ]
  },
  {
   "cell_type": "markdown",
   "id": "87a3ecac",
   "metadata": {},
   "source": [
    "### Establish a connection with your Hopsworks feature store."
   ]
  },
  {
   "cell_type": "code",
   "execution_count": 1,
   "id": "1c8987db",
   "metadata": {},
   "outputs": [
    {
     "name": "stdout",
     "output_type": "stream",
     "text": [
      "Starting Spark application\n"
     ]
    },
    {
     "data": {
      "text/html": [
       "<table>\n",
       "<tr><th>ID</th><th>YARN Application ID</th><th>Kind</th><th>State</th><th>Spark UI</th><th>Driver log</th></tr><tr><td>24</td><td>application_1624276539905_0004</td><td>pyspark</td><td>idle</td><td><a target=\"_blank\" href=\"/hopsworks-api/yarnui/https://resourcemanager.service.consul:8089/proxy/application_1624276539905_0004/\">Link</a></td><td><a target=\"_blank\" href=\"/hopsworks-api/yarnui/https://featureds11:8044/node/containerlogs/container_e07_1624276539905_0004_01_000001/kafka__holuse19\">Link</a></td></tr></table>"
      ],
      "text/plain": [
       "<IPython.core.display.HTML object>"
      ]
     },
     "metadata": {},
     "output_type": "display_data"
    },
    {
     "name": "stdout",
     "output_type": "stream",
     "text": [
      "SparkSession available as 'spark'.\n",
      "Connected. Call `.close()` to terminate connection gracefully."
     ]
    }
   ],
   "source": [
    "import hsfs\n",
    "connection = hsfs.connection()\n",
    "# get a reference to the feature store, you can access also shared feature stores by providing the feature store name\n",
    "fs = connection.get_feature_store()"
   ]
  },
  {
   "cell_type": "markdown",
   "id": "d95e1236",
   "metadata": {},
   "source": [
    "## Get feature groups"
   ]
  },
  {
   "cell_type": "code",
   "execution_count": 2,
   "id": "9a7ce1c7",
   "metadata": {},
   "outputs": [],
   "source": [
    "card_transactions_10m_agg = fs.get_feature_group(\"card_transactions_10m_agg\", version = 1)\n",
    "card_transactions_1h_agg = fs.get_feature_group(\"card_transactions_1h_agg\", version = 1)\n",
    "card_transactions_12h_agg = fs.get_feature_group(\"card_transactions_12h_agg\", version = 1)"
   ]
  },
  {
   "cell_type": "markdown",
   "id": "0180523c",
   "metadata": {},
   "source": [
    "## Create training dataset"
   ]
  },
  {
   "cell_type": "code",
   "execution_count": 14,
   "id": "fff35cb8",
   "metadata": {},
   "outputs": [
    {
     "name": "stdout",
     "output_type": "stream",
     "text": [
      "<hsfs.training_dataset.TrainingDataset object at 0x7fa2f91c7b10>"
     ]
    }
   ],
   "source": [
    "query = card_transactions_10m_agg.select([\"cc_num\",\"stdev_amt_per_10m\", \"avg_amt_per_10m\", \"num_trans_per_10m\"])\\\n",
    "                                 .join(card_transactions_1h_agg.select([\"stdev_amt_per_1h\", \"avg_amt_per_1h\", \"num_trans_per_1h\"]))\\\n",
    "                                 .join(card_transactions_12h_agg.select([\"stdev_amt_per_12h\", \"avg_amt_per_12h\", \"num_trans_per_12h\"]))\n",
    "\n",
    "td_meta = fs.create_training_dataset(name=\"card_fraud_model3\",\n",
    "                               description=\"Training dataset to train card fraud model\",\n",
    "                               data_format=\"tfrecord\",                               \n",
    "                               version=1)\n",
    "\n",
    "td_meta.save(query)"
   ]
  },
  {
   "cell_type": "code",
   "execution_count": 15,
   "id": "d332a9ae",
   "metadata": {},
   "outputs": [
    {
     "name": "stdout",
     "output_type": "stream",
     "text": [
      "+----------------+------------------+---------------+-----------------+------------------+------------------+----------------+------------------+------------------+-----------------+\n",
      "|          cc_num| stdev_amt_per_10m|avg_amt_per_10m|num_trans_per_10m|  stdev_amt_per_1h|    avg_amt_per_1h|num_trans_per_1h| stdev_amt_per_12h|   avg_amt_per_12h|num_trans_per_12h|\n",
      "+----------------+------------------+---------------+-----------------+------------------+------------------+----------------+------------------+------------------+-----------------+\n",
      "|4925013053127624|               NaN|          35.63|                1|3235.3105087765534|2817.2200000000003|               2|52.463931769041736| 63.98166666666666|                6|\n",
      "|4253589902657103|               NaN|          92.74|                1|               NaN|              82.2|               1|125.92984495345019|105.03999999999999|                5|\n",
      "|4223253728365626|               NaN|        1500.78|                1|               NaN|             476.0|               1| 180.6706000063836|116.69333333333333|                6|\n",
      "|4307553668184625|               NaN|           1.17|                1| 5624.779560622798|3315.1000000000004|               3|151.22303791168227|116.27428571428572|                7|\n",
      "|4281783875596457|               NaN|         764.51|                1| 4196.650462070912|           2968.94|               2| 2554.542707082256|         1512.8225|                8|\n",
      "|4794233751173765|               NaN|           0.33|                1|441.80031688535485|            411.01|               2|1697.9121407602956| 715.9321428571429|               14|\n",
      "|4858129660270572|               NaN|           4.28|                1|               NaN|            700.02|               1|325.75905837366975|         221.36625|                8|\n",
      "|4978667132535671|30.638936828813105|         47.165|                2|               NaN|             65.29|               1|1627.1946026324724|        712.906875|               16|\n",
      "|4170245277417751|               NaN|         510.11|                1|  753.526899475615| 723.1666666666666|               3| 701.8126169158134|           424.562|               10|\n",
      "|4148950609641791|               NaN|         100.98|                1| 156.0655376756829|280.79499999999996|               2|351.17089535501714|345.50222222222226|                9|\n",
      "+----------------+------------------+---------------+-----------------+------------------+------------------+----------------+------------------+------------------+-----------------+\n",
      "only showing top 10 rows"
     ]
    }
   ],
   "source": [
    "query.show(10)"
   ]
  },
  {
   "cell_type": "code",
   "execution_count": 11,
   "id": "0635f7e5",
   "metadata": {},
   "outputs": [
    {
     "name": "stdout",
     "output_type": "stream",
     "text": [
      "+-----------------+---------------+-----------------+\n",
      "|stdev_amt_per_10m|avg_amt_per_10m|num_trans_per_10m|\n",
      "+-----------------+---------------+-----------------+\n",
      "|              NaN|          82.28|                1|\n",
      "|              NaN|          12.77|                1|\n",
      "|              NaN|          88.43|                1|\n",
      "|              NaN|          32.22|                1|\n",
      "|              NaN|          42.09|                1|\n",
      "|              NaN|         459.94|                1|\n",
      "|              NaN|          95.11|                1|\n",
      "|              NaN|        1308.17|                1|\n",
      "|              NaN|         776.22|                1|\n",
      "|              NaN|          92.62|                1|\n",
      "+-----------------+---------------+-----------------+\n",
      "only showing top 10 rows"
     ]
    }
   ],
   "source": [
    "card_transactions_10m_agg.select([\"stdev_amt_per_10m\", \"avg_amt_per_10m\", \"num_trans_per_10m\"]).show(10)"
   ]
  },
  {
   "cell_type": "code",
   "execution_count": null,
   "id": "c52d9e1c",
   "metadata": {},
   "outputs": [],
   "source": []
  }
 ],
 "metadata": {
  "kernelspec": {
   "display_name": "PySpark",
   "language": "python",
   "name": "pysparkkernel"
  },
  "language_info": {
   "codemirror_mode": {
    "name": "python",
    "version": 3
   },
   "mimetype": "text/x-python",
   "name": "pyspark",
   "pygments_lexer": "python3"
  }
 },
 "nbformat": 4,
 "nbformat_minor": 5
}