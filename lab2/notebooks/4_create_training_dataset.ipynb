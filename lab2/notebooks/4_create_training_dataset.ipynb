{
 "cells": [
  {
   "cell_type": "markdown",
   "id": "9e1ee6a4",
   "metadata": {},
   "source": [
    "---\n",
    "title: \"Create training dataset from online feature store enabled feature groups\"\n",
    "date: 2021-04-25\n",
    "type: technical_note\n",
    "draft: false\n",
    "---"
   ]
  },
  {
   "cell_type": "markdown",
   "id": "c5452b82",
   "metadata": {},
   "source": [
    "### Establish a connection with your Hopsworks feature store."
   ]
  },
  {
   "cell_type": "code",
   "execution_count": 1,
   "id": "65eb3ea5",
   "metadata": {},
   "outputs": [
    {
     "name": "stdout",
     "output_type": "stream",
     "text": [
      "Starting Spark application\n"
     ]
    },
    {
     "data": {
      "text/html": [
       "<table>\n",
       "<tr><th>ID</th><th>YARN Application ID</th><th>Kind</th><th>State</th><th>Spark UI</th><th>Driver log</th></tr><tr><td>30</td><td>application_1624276539905_0010</td><td>pyspark</td><td>idle</td><td><a target=\"_blank\" href=\"/hopsworks-api/yarnui/https://resourcemanager.service.consul:8089/proxy/application_1624276539905_0010/\">Link</a></td><td><a target=\"_blank\" href=\"/hopsworks-api/yarnui/https://featureds11:8044/node/containerlogs/container_e07_1624276539905_0010_01_000001/kafka__holuse19\">Link</a></td></tr></table>"
      ],
      "text/plain": [
       "<IPython.core.display.HTML object>"
      ]
     },
     "metadata": {},
     "output_type": "display_data"
    },
    {
     "name": "stdout",
     "output_type": "stream",
     "text": [
      "SparkSession available as 'spark'.\n",
      "Connected. Call `.close()` to terminate connection gracefully."
     ]
    }
   ],
   "source": [
    "import hsfs\n",
    "connection = hsfs.connection()\n",
    "# get a reference to the feature store, you can access also shared feature stores by providing the feature store name\n",
    "fs = connection.get_feature_store()"
   ]
  },
  {
   "cell_type": "markdown",
   "id": "3eb64537",
   "metadata": {},
   "source": [
    "## Get feature groups"
   ]
  },
  {
   "cell_type": "code",
   "execution_count": 2,
   "id": "7322b900",
   "metadata": {},
   "outputs": [],
   "source": [
    "card_transactions_10m_agg = fs.get_feature_group(\"card_transactions_10m_agg\", version = 1)\n",
    "card_transactions_1h_agg = fs.get_feature_group(\"card_transactions_1h_agg\", version = 1)\n",
    "card_transactions_12h_agg = fs.get_feature_group(\"card_transactions_12h_agg\", version = 1)"
   ]
  },
  {
   "cell_type": "markdown",
   "id": "bdd57482",
   "metadata": {},
   "source": [
    "## Create training dataset"
   ]
  },
  {
   "cell_type": "code",
   "execution_count": 5,
   "id": "74aef69f",
   "metadata": {},
   "outputs": [],
   "source": [
    "query = card_transactions_10m_agg.select([\"stdev_amt_per_10m\", \"avg_amt_per_10m\", \"num_trans_per_10m\"])\\\n",
    "                                 .join(card_transactions_1h_agg.select([\"stdev_amt_per_1h\", \"avg_amt_per_1h\", \"num_trans_per_1h\"]))\\\n",
    "                                 .join(card_transactions_12h_agg.select([\"stdev_amt_per_12h\", \"avg_amt_per_12h\", \"num_trans_per_12h\"]))\n"
   ]
  },
  {
   "cell_type": "code",
   "execution_count": 11,
   "id": "92eb23b2",
   "metadata": {},
   "outputs": [
    {
     "name": "stdout",
     "output_type": "stream",
     "text": [
      "['__class__', '__delattr__', '__dict__', '__dir__', '__doc__', '__eq__', '__format__', '__ge__', '__getattribute__', '__gt__', '__hash__', '__init__', '__init_subclass__', '__le__', '__lt__', '__module__', '__ne__', '__new__', '__reduce__', '__reduce_ex__', '__repr__', '__setattr__', '__sizeof__', '__str__', '__subclasshook__', '__weakref__', '_feature_store_id', '_feature_store_name', '_filter', '_hive_engine', '_hopsworks_json', '_joins', '_left_feature_group', '_left_feature_group_end_time', '_left_feature_group_start_time', '_left_features', '_query_constructor_api', '_register_hudi_tables', '_register_on_demand', '_storage_connector_api', 'as_of', 'filter', 'join', 'json', 'left_feature_group_end_time', 'left_feature_group_start_time', 'pull_changes', 'read', 'show', 'to_dict', 'to_string']"
     ]
    }
   ],
   "source": [
    "dir(query)"
   ]
  },
  {
   "cell_type": "code",
   "execution_count": 15,
   "id": "be6b3481",
   "metadata": {},
   "outputs": [
    {
     "name": "stdout",
     "output_type": "stream",
     "text": [
      "200"
     ]
    }
   ],
   "source": [
    "query.read().count()"
   ]
  },
  {
   "cell_type": "code",
   "execution_count": 17,
   "id": "e12bd7d5",
   "metadata": {},
   "outputs": [
    {
     "name": "stdout",
     "output_type": "stream",
     "text": [
      "+------------------+---------------+-----------------+------------------+------------------+----------------+------------------+------------------+-----------------+\n",
      "| stdev_amt_per_10m|avg_amt_per_10m|num_trans_per_10m|  stdev_amt_per_1h|    avg_amt_per_1h|num_trans_per_1h| stdev_amt_per_12h|   avg_amt_per_12h|num_trans_per_12h|\n",
      "+------------------+---------------+-----------------+------------------+------------------+----------------+------------------+------------------+-----------------+\n",
      "|               NaN|          577.2|                1|261.07835164946175|            196.75|               3|1709.5281368238423| 663.3857894736843|               19|\n",
      "|               NaN|          35.63|                1|3235.3105087765534|2817.2200000000003|               2| 349.1966821397238|224.18000000000004|               24|\n",
      "|               NaN|         979.52|                1|               NaN|           5667.57|               1|1442.8493355008477| 554.5813333333333|               15|\n",
      "|               NaN|          92.74|                1|               NaN|              82.2|               1| 79.31196143748627|  82.0390909090909|               44|\n",
      "|243.07502710068758|         239.95|                2|27.633733008770275| 90.47999999999999|               2|1045.8444121236944| 429.0260869565217|               23|\n",
      "|               NaN|         171.03|                1| 381.0621319854983|264.09333333333336|               3| 1100.835778105251| 670.7878571428571|               14|\n",
      "| 82.09509729575818|         649.98|                2| 94.65416060586033| 77.74199999999999|               5|1931.7554337535043| 805.7719047619047|               21|\n",
      "|               NaN|        5748.75|                1|299.60821425655206|           275.885|               2| 446.4053416919686|194.41958333333332|               24|\n",
      "|               0.0|          39.49|                4|30.334150957060164|            67.865|               8| 871.5952300201317|353.35900000000004|               40|\n",
      "|               NaN|           1.17|                1| 5624.779560622798|3315.1000000000004|               3|2481.4258621636254|1726.8033333333333|               24|\n",
      "|               NaN|          23.74|                1|               NaN|             66.45|               1|1608.5961606690569| 666.2376923076923|               13|\n",
      "|               0.0|        7412.02|                4|               0.0|           7412.02|               4|2563.9277821218966|1260.7857142857142|               28|\n",
      "|               NaN|           0.33|                1|441.80031688535485|            411.01|               2| 2268.465938413077|        1212.71125|               32|\n",
      "|               0.0|         572.69|                4|259.12552933185714| 223.8166666666667|              12|2480.8301292584233|           807.905|               56|\n",
      "|               NaN|          19.89|                1| 1241.813858052003|           933.165|               2|342.30825962378805| 281.0693333333333|               15|\n",
      "|               NaN|          11.05|                1| 39.32927916959578|             61.34|               2|2561.1007552486035|1195.0805555555553|               18|\n",
      "|               0.0|          33.31|                4|               0.0|             33.31|               4|               0.0|             33.31|                4|\n",
      "|               NaN|         483.78|                1|               NaN|            588.08|               1| 539.6091666530781| 294.0711764705883|               17|\n",
      "|               NaN|         510.11|                1|  753.526899475615| 723.1666666666666|               3|3043.6694867872893|1436.0100000000002|               24|\n",
      "|212.93237665646677|         208.12|                8|212.93237665646677|            208.12|               8|1364.0506626888537| 705.8984615384616|               52|\n",
      "+------------------+---------------+-----------------+------------------+------------------+----------------+------------------+------------------+-----------------+\n",
      "only showing top 20 rows"
     ]
    }
   ],
   "source": [
    "query.show(20)"
   ]
  },
  {
   "cell_type": "code",
   "execution_count": 18,
   "id": "f801cc35",
   "metadata": {},
   "outputs": [
    {
     "name": "stderr",
     "output_type": "stream",
     "text": [
      "An error was encountered:\n",
      "Metadata operation error: (url: https://hopsworks.glassfish.service.consul:8182/hopsworks-api/api/project/1145/featurestores/1093/trainingdatasets/1039/statistics). Server response: \n",
      "HTTP code: 400, HTTP reason: Bad Request, error code: 270137, error msg: Error saving statistics, user msg: Not a valid JSON\n",
      "Traceback (most recent call last):\n",
      "  File \"/srv/hops/anaconda/envs/theenv/lib/python3.7/site-packages/hsfs/training_dataset.py\", line 156, in save\n",
      "    self._statistics_engine.compute_statistics(self, self.read())\n",
      "  File \"/srv/hops/anaconda/envs/theenv/lib/python3.7/site-packages/hsfs/core/statistics_engine.py\", line 69, in compute_statistics\n",
      "    self._statistics_api.post(metadata_instance, stats)\n",
      "  File \"/srv/hops/anaconda/envs/theenv/lib/python3.7/site-packages/hsfs/core/statistics_api.py\", line 46, in post\n",
      "    \"POST\", path_params, headers=headers, data=statistics.json()\n",
      "  File \"/srv/hops/anaconda/envs/theenv/lib/python3.7/site-packages/hsfs/decorators.py\", line 35, in if_connected\n",
      "    return fn(inst, *args, **kwargs)\n",
      "  File \"/srv/hops/anaconda/envs/theenv/lib/python3.7/site-packages/hsfs/client/base.py\", line 147, in _send_request\n",
      "    raise exceptions.RestAPIError(url, response)\n",
      "hsfs.client.exceptions.RestAPIError: Metadata operation error: (url: https://hopsworks.glassfish.service.consul:8182/hopsworks-api/api/project/1145/featurestores/1093/trainingdatasets/1039/statistics). Server response: \n",
      "HTTP code: 400, HTTP reason: Bad Request, error code: 270137, error msg: Error saving statistics, user msg: Not a valid JSON\n",
      "\n"
     ]
    }
   ],
   "source": [
    "td_meta = fs.create_training_dataset(name=\"card_fraud_model_holuser20_csv\",\n",
    "                               description=\"Training dataset to train card fraud model\",\n",
    "                               #data_format=\"tfrecord\",\n",
    "                               data_format=\"csv\", \n",
    "                               version=1)\n",
    "\n",
    "td_meta.save(query)"
   ]
  },
  {
   "cell_type": "code",
   "execution_count": 10,
   "id": "7b73861c",
   "metadata": {},
   "outputs": [
    {
     "name": "stdout",
     "output_type": "stream",
     "text": [
      "+-----------------+---------------+-----------------+\n",
      "|stdev_amt_per_10m|avg_amt_per_10m|num_trans_per_10m|\n",
      "+-----------------+---------------+-----------------+\n",
      "|              NaN|          82.28|                1|\n",
      "|              NaN|          12.77|                1|\n",
      "|              NaN|          88.43|                1|\n",
      "|              NaN|          32.22|                1|\n",
      "|              NaN|          42.09|                1|\n",
      "|              NaN|         459.94|                1|\n",
      "|              NaN|          95.11|                1|\n",
      "|              NaN|        1308.17|                1|\n",
      "|              NaN|         776.22|                1|\n",
      "|              NaN|          92.62|                1|\n",
      "+-----------------+---------------+-----------------+\n",
      "only showing top 10 rows"
     ]
    }
   ],
   "source": [
    "card_transactions_10m_agg.select([\"stdev_amt_per_10m\", \"avg_amt_per_10m\", \"num_trans_per_10m\"]).show(10)"
   ]
  },
  {
   "cell_type": "code",
   "execution_count": null,
   "id": "3dbf07ae",
   "metadata": {},
   "outputs": [],
   "source": []
  }
 ],
 "metadata": {
  "kernelspec": {
   "display_name": "PySpark",
   "language": "python",
   "name": "pysparkkernel"
  },
  "language_info": {
   "codemirror_mode": {
    "name": "python",
    "version": 3
   },
   "mimetype": "text/x-python",
   "name": "pyspark",
   "pygments_lexer": "python3"
  }
 },
 "nbformat": 4,
 "nbformat_minor": 5
}