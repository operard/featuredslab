{
 "cells": [
  {
   "cell_type": "markdown",
   "metadata": {},
   "source": [
    "---\n",
    "title: \"Create a Kafka topic\"\n",
    "date: 2021-04-25\n",
    "type: technical_note\n",
    "draft: false\n",
    "---"
   ]
  },
  {
   "cell_type": "markdown",
   "metadata": {},
   "source": [
    "# Create a Kafka topic\n",
    "\n",
    "The screenshots below illustrates the steps necessary to create a Kafka topic on Hops\n",
    "\n",
    "![kafka.png](./images/kafka.png)\n",
    "![kafka2.png](./images/kafka2.png)\n",
    "![kafka3.png](./images/kafka3.png)\n",
    "![kafka4.png](./images/kafka4.png)\n",
    "![kafka5.png](./images/kafka5.png)\n",
    "![kafka6.png](./images/kafka6.png)\n",
    "![kafka7.png](./images/kafka7.png)\n",
    "![kafka8.png](./images/kafka8.png)"
   ]
  },
  {
   "cell_type": "code",
   "execution_count": null,
   "metadata": {},
   "outputs": [],
   "source": []
  }
 ],
 "metadata": {
  "kernelspec": {
   "display_name": "Python 3",
   "language": "python",
   "name": "python3"
  },
  "language_info": {
   "codemirror_mode": {
    "name": "ipython",
    "version": 3
   },
   "file_extension": ".py",
   "mimetype": "text/x-python",
   "name": "python",
   "nbconvert_exporter": "python",
   "pygments_lexer": "ipython3",
   "version": "3.7.6"
  }
 },
 "nbformat": 4,
 "nbformat_minor": 5
}
