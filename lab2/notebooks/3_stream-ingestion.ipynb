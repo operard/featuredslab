{
 "cells": [
  {
   "cell_type": "markdown",
   "id": "0d781bbd",
   "metadata": {},
   "source": [
    "---\n",
    "title: \"Windowed aggregations using spark streaming and ingestion to the online feature store\"\n",
    "date: 2021-04-25\n",
    "type: technical_note\n",
    "draft: false\n",
    "---"
   ]
  },
  {
   "cell_type": "markdown",
   "id": "d68b8262",
   "metadata": {},
   "source": [
    "## Import necessary libraries"
   ]
  },
  {
   "cell_type": "code",
   "execution_count": 1,
   "id": "f8790af3",
   "metadata": {},
   "outputs": [
    {
     "name": "stdout",
     "output_type": "stream",
     "text": [
      "Starting Spark application\n"
     ]
    },
    {
     "data": {
      "text/html": [
       "<table>\n",
       "<tr><th>ID</th><th>YARN Application ID</th><th>Kind</th><th>State</th><th>Spark UI</th><th>Driver log</th></tr><tr><td>29</td><td>application_1624276539905_0009</td><td>pyspark</td><td>idle</td><td><a target=\"_blank\" href=\"/hopsworks-api/yarnui/https://resourcemanager.service.consul:8089/proxy/application_1624276539905_0009/\">Link</a></td><td><a target=\"_blank\" href=\"/hopsworks-api/yarnui/https://featureds11:8044/node/containerlogs/container_e07_1624276539905_0009_01_000001/kafka__holuse19\">Link</a></td></tr></table>"
      ],
      "text/plain": [
       "<IPython.core.display.HTML object>"
      ]
     },
     "metadata": {},
     "output_type": "display_data"
    },
    {
     "name": "stdout",
     "output_type": "stream",
     "text": [
      "SparkSession available as 'spark'.\n"
     ]
    }
   ],
   "source": [
    "import json\n",
    "\n",
    "from pyspark.sql.functions import from_json, window, avg,count, stddev, explode, date_format,col\n",
    "from pyspark.sql.types import StructField, StructType, StringType, DoubleType, TimestampType, LongType, IntegerType\n",
    "\n",
    "from hops import kafka, tls, hdfs"
   ]
  },
  {
   "cell_type": "code",
   "execution_count": 2,
   "id": "38c18737",
   "metadata": {},
   "outputs": [],
   "source": [
    "# name of the kafka topic to read card transactions from\n",
    "KAFKA_TOPIC_NAME = \"credit_card_transactions\""
   ]
  },
  {
   "cell_type": "markdown",
   "id": "580b33e7",
   "metadata": {},
   "source": [
    "## Create a stream from the kafka topic\n"
   ]
  },
  {
   "cell_type": "code",
   "execution_count": 3,
   "id": "709ee285",
   "metadata": {},
   "outputs": [],
   "source": [
    "df_read = spark \\\n",
    "  .readStream \\\n",
    "  .format(\"kafka\") \\\n",
    "  .option(\"kafka.bootstrap.servers\", kafka.get_broker_endpoints()) \\\n",
    "  .option(\"kafka.security.protocol\",kafka.get_security_protocol()) \\\n",
    "  .option(\"kafka.ssl.truststore.location\", tls.get_trust_store()) \\\n",
    "  .option(\"kafka.ssl.truststore.password\", tls.get_key_store_pwd()) \\\n",
    "  .option(\"kafka.ssl.keystore.location\", tls.get_key_store()) \\\n",
    "  .option(\"kafka.ssl.keystore.password\", tls.get_key_store_pwd()) \\\n",
    "  .option(\"kafka.ssl.key.password\", tls.get_trust_store_pwd()) \\\n",
    "  .option(\"kafka.ssl.endpoint.identification.algorithm\", \"\") \\\n",
    "  .option(\"startingOffsets\", \"earliest\")\\\n",
    "  .option(\"subscribe\", KAFKA_TOPIC_NAME) \\\n",
    "  .load()"
   ]
  },
  {
   "cell_type": "code",
   "execution_count": 4,
   "id": "fda69f94",
   "metadata": {},
   "outputs": [],
   "source": [
    "# Define schema to read from kafka topic \n",
    "parse_schema = StructType([StructField('tid', StringType(), True),\n",
    "                           StructField('datetime', StringType(), True),\n",
    "                           StructField('cc_num', StringType(), True),\n",
    "                           StructField('amount', StringType(), True)])"
   ]
  },
  {
   "cell_type": "code",
   "execution_count": 5,
   "id": "dbf46adf",
   "metadata": {},
   "outputs": [],
   "source": [
    "# Deserialise data from and create streaming query\n",
    "df_deser = df_read.selectExpr(\"CAST(value AS STRING)\")\\\n",
    "                   .select(from_json(\"value\", parse_schema).alias(\"value\"))\\\n",
    "                   .select(\"value.tid\", \"value.datetime\", \"value.cc_num\", \"value.amount\")\\\n",
    "                   .selectExpr(\"CAST(tid as string)\", \"CAST(datetime as string)\", \"CAST(cc_num as long)\", \"CAST(amount as double)\")"
   ]
  },
  {
   "cell_type": "code",
   "execution_count": 6,
   "id": "eb19d2f1",
   "metadata": {},
   "outputs": [
    {
     "name": "stdout",
     "output_type": "stream",
     "text": [
      "True"
     ]
    }
   ],
   "source": [
    "df_deser.isStreaming"
   ]
  },
  {
   "cell_type": "code",
   "execution_count": 7,
   "id": "2c08ab80",
   "metadata": {},
   "outputs": [
    {
     "name": "stdout",
     "output_type": "stream",
     "text": [
      "root\n",
      " |-- tid: string (nullable = true)\n",
      " |-- datetime: string (nullable = true)\n",
      " |-- cc_num: long (nullable = true)\n",
      " |-- amount: double (nullable = true)"
     ]
    }
   ],
   "source": [
    "df_deser.printSchema()"
   ]
  },
  {
   "cell_type": "markdown",
   "id": "14c0842c",
   "metadata": {},
   "source": [
    "## Create windowing aggregations over different time windows using spark streaming."
   ]
  },
  {
   "cell_type": "code",
   "execution_count": 8,
   "id": "0b47a83f",
   "metadata": {},
   "outputs": [],
   "source": [
    "# 10 minute window\n",
    "windowed10mSignalDF =df_deser \\\n",
    "    .selectExpr(\"CAST(tid as string)\", \"CAST(datetime as timestamp)\", \"CAST(cc_num as long)\", \"CAST(amount as double)\")\\\n",
    "    .withWatermark(\"datetime\", \"60 minutes\") \\\n",
    "    .groupBy(window(\"datetime\", \"10 minutes\"), \"cc_num\") \\\n",
    "    .agg(avg(\"amount\").alias(\"avg_amt_per_10m\"), stddev(\"amount\").alias(\"stdev_amt_per_10m\"), count(\"cc_num\").alias(\"num_trans_per_10m\"))\\\n",
    "    .select(\"cc_num\", \"num_trans_per_10m\", \"avg_amt_per_10m\", \"stdev_amt_per_10m\")"
   ]
  },
  {
   "cell_type": "code",
   "execution_count": 9,
   "id": "d45a1cdb",
   "metadata": {},
   "outputs": [
    {
     "name": "stdout",
     "output_type": "stream",
     "text": [
      "True"
     ]
    }
   ],
   "source": [
    "windowed10mSignalDF.isStreaming"
   ]
  },
  {
   "cell_type": "code",
   "execution_count": 10,
   "id": "27987fe2",
   "metadata": {},
   "outputs": [
    {
     "name": "stdout",
     "output_type": "stream",
     "text": [
      "root\n",
      " |-- cc_num: long (nullable = true)\n",
      " |-- num_trans_per_10m: long (nullable = false)\n",
      " |-- avg_amt_per_10m: double (nullable = true)\n",
      " |-- stdev_amt_per_10m: double (nullable = true)"
     ]
    }
   ],
   "source": [
    "windowed10mSignalDF.printSchema()"
   ]
  },
  {
   "cell_type": "code",
   "execution_count": 11,
   "id": "85ea3025",
   "metadata": {},
   "outputs": [],
   "source": [
    "# 1 hour window\n",
    "windowed1hSignalDF = \\\n",
    "  df_deser \\\n",
    "    .selectExpr(\"CAST(tid as string)\", \"CAST(datetime as timestamp)\", \"CAST(cc_num as long)\", \"CAST(amount as double)\")\\\n",
    "    .withWatermark(\"datetime\", \"60 minutes\") \\\n",
    "    .groupBy(window(\"datetime\", \"60 minutes\"), \"cc_num\") \\\n",
    "    .agg(avg(\"amount\").alias(\"avg_amt_per_1h\"), stddev(\"amount\").alias(\"stdev_amt_per_1h\"), count(\"cc_num\").alias(\"num_trans_per_1h\"))\\\n",
    "    .select(\"cc_num\", \"num_trans_per_1h\", \"avg_amt_per_1h\", \"stdev_amt_per_1h\")"
   ]
  },
  {
   "cell_type": "code",
   "execution_count": 12,
   "id": "096282db",
   "metadata": {},
   "outputs": [
    {
     "name": "stdout",
     "output_type": "stream",
     "text": [
      "True"
     ]
    }
   ],
   "source": [
    "windowed1hSignalDF.isStreaming"
   ]
  },
  {
   "cell_type": "code",
   "execution_count": 13,
   "id": "1b45bae6",
   "metadata": {},
   "outputs": [
    {
     "name": "stdout",
     "output_type": "stream",
     "text": [
      "root\n",
      " |-- cc_num: long (nullable = true)\n",
      " |-- num_trans_per_1h: long (nullable = false)\n",
      " |-- avg_amt_per_1h: double (nullable = true)\n",
      " |-- stdev_amt_per_1h: double (nullable = true)"
     ]
    }
   ],
   "source": [
    "windowed1hSignalDF.printSchema()"
   ]
  },
  {
   "cell_type": "code",
   "execution_count": 14,
   "id": "0ee63cf5",
   "metadata": {},
   "outputs": [],
   "source": [
    "# 12 hour window\n",
    "windowed12hSignalDF = \\\n",
    "  df_deser \\\n",
    "    .selectExpr(\"CAST(tid as string)\", \"CAST(datetime as timestamp)\", \"CAST(cc_num as long)\", \"CAST(amount as double)\")\\\n",
    "    .withWatermark(\"datetime\", \"60 minutes\") \\\n",
    "    .groupBy(window(\"datetime\", \"12 hours\"), \"cc_num\") \\\n",
    "    .agg(avg(\"amount\").alias(\"avg_amt_per_12h\"), stddev(\"amount\").alias(\"stdev_amt_per_12h\"), count(\"cc_num\").alias(\"num_trans_per_12h\"))\\\n",
    "    .select(\"cc_num\", \"num_trans_per_12h\", \"avg_amt_per_12h\", \"stdev_amt_per_12h\")"
   ]
  },
  {
   "cell_type": "code",
   "execution_count": 15,
   "id": "97a6588e",
   "metadata": {},
   "outputs": [
    {
     "name": "stdout",
     "output_type": "stream",
     "text": [
      "True"
     ]
    }
   ],
   "source": [
    "windowed12hSignalDF.isStreaming"
   ]
  },
  {
   "cell_type": "code",
   "execution_count": 16,
   "id": "73938e1d",
   "metadata": {},
   "outputs": [
    {
     "name": "stdout",
     "output_type": "stream",
     "text": [
      "root\n",
      " |-- cc_num: long (nullable = true)\n",
      " |-- num_trans_per_12h: long (nullable = false)\n",
      " |-- avg_amt_per_12h: double (nullable = true)\n",
      " |-- stdev_amt_per_12h: double (nullable = true)"
     ]
    }
   ],
   "source": [
    "windowed12hSignalDF.printSchema()"
   ]
  },
  {
   "cell_type": "markdown",
   "id": "8e150014",
   "metadata": {},
   "source": [
    "### Establish a connection with your Hopsworks feature store."
   ]
  },
  {
   "cell_type": "code",
   "execution_count": 17,
   "id": "b27145d0",
   "metadata": {},
   "outputs": [
    {
     "name": "stdout",
     "output_type": "stream",
     "text": [
      "Connected. Call `.close()` to terminate connection gracefully."
     ]
    }
   ],
   "source": [
    "import hsfs\n",
    "connection = hsfs.connection()\n",
    "# get a reference to the feature store, you can access also shared feature stores by providing the feature store name\n",
    "fs = connection.get_feature_store()"
   ]
  },
  {
   "cell_type": "markdown",
   "id": "46cc6ac3",
   "metadata": {},
   "source": [
    "## Get feature groups from hopsworks feature store."
   ]
  },
  {
   "cell_type": "code",
   "execution_count": 18,
   "id": "7ff320d8",
   "metadata": {},
   "outputs": [],
   "source": [
    "card_transactions = fs.get_feature_group(\"card_transactions\", version = 1)\n",
    "card_transactions_10m_agg = fs.get_feature_group(\"card_transactions_10m_agg\", version = 1)\n",
    "card_transactions_1h_agg = fs.get_feature_group(\"card_transactions_1h_agg\", version = 1)\n",
    "card_transactions_12h_agg = fs.get_feature_group(\"card_transactions_12h_agg\", version = 1)"
   ]
  },
  {
   "cell_type": "markdown",
   "id": "b4b0964b",
   "metadata": {},
   "source": [
    "## Insert streaming dataframes to the online feature group\n",
    "\n",
    "Now we are ready to write this streaming dataframe as a long living application to the online storage of the other feature group."
   ]
  },
  {
   "cell_type": "code",
   "execution_count": 19,
   "id": "d8598c4f",
   "metadata": {},
   "outputs": [
    {
     "name": "stdout",
     "output_type": "stream",
     "text": [
      "StatisticsWarning: Stream ingestion for feature group `card_transactions_10m_agg`, with version `1` will not compute statistics."
     ]
    }
   ],
   "source": [
    "query_10m = card_transactions_10m_agg.insert_stream(windowed10mSignalDF)"
   ]
  },
  {
   "cell_type": "code",
   "execution_count": 20,
   "id": "ef17a80e",
   "metadata": {},
   "outputs": [
    {
     "name": "stdout",
     "output_type": "stream",
     "text": [
      "StatisticsWarning: Stream ingestion for feature group `card_transactions_1h_agg`, with version `1` will not compute statistics."
     ]
    }
   ],
   "source": [
    "query_1h = card_transactions_1h_agg.insert_stream(windowed1hSignalDF)"
   ]
  },
  {
   "cell_type": "code",
   "execution_count": 21,
   "id": "8f8f3140",
   "metadata": {},
   "outputs": [
    {
     "name": "stdout",
     "output_type": "stream",
     "text": [
      "StatisticsWarning: Stream ingestion for feature group `card_transactions_12h_agg`, with version `1` will not compute statistics."
     ]
    }
   ],
   "source": [
    "query_12h = card_transactions_12h_agg.insert_stream(windowed12hSignalDF)"
   ]
  },
  {
   "cell_type": "markdown",
   "id": "81cbbb04",
   "metadata": {},
   "source": [
    "### Check if spark streaming query is active"
   ]
  },
  {
   "cell_type": "code",
   "execution_count": 68,
   "id": "af84235f",
   "metadata": {},
   "outputs": [
    {
     "name": "stdout",
     "output_type": "stream",
     "text": [
      "True"
     ]
    }
   ],
   "source": [
    "query_10m.isActive"
   ]
  },
  {
   "cell_type": "code",
   "execution_count": 69,
   "id": "0d0f8e82",
   "metadata": {},
   "outputs": [
    {
     "name": "stdout",
     "output_type": "stream",
     "text": [
      "True"
     ]
    }
   ],
   "source": [
    "query_1h.isActive"
   ]
  },
  {
   "cell_type": "code",
   "execution_count": 70,
   "id": "1152be5b",
   "metadata": {},
   "outputs": [
    {
     "name": "stdout",
     "output_type": "stream",
     "text": [
      "True"
     ]
    }
   ],
   "source": [
    "query_12h.isActive"
   ]
  },
  {
   "cell_type": "markdown",
   "id": "ee345a97",
   "metadata": {},
   "source": [
    "#### We can also check status of a query and if there are any exceptions trown."
   ]
  },
  {
   "cell_type": "code",
   "execution_count": 71,
   "id": "d19ad20c",
   "metadata": {},
   "outputs": [
    {
     "name": "stdout",
     "output_type": "stream",
     "text": [
      "{'message': 'Waiting for data to arrive', 'isDataAvailable': False, 'isTriggerActive': False}"
     ]
    }
   ],
   "source": [
    "query_10m.status"
   ]
  },
  {
   "cell_type": "code",
   "execution_count": 72,
   "id": "01515f8c",
   "metadata": {},
   "outputs": [
    {
     "name": "stdout",
     "output_type": "stream",
     "text": [
      "{'message': 'Waiting for data to arrive', 'isDataAvailable': False, 'isTriggerActive': False}"
     ]
    }
   ],
   "source": [
    "query_12h.status"
   ]
  },
  {
   "cell_type": "code",
   "execution_count": 73,
   "id": "ba921075",
   "metadata": {},
   "outputs": [],
   "source": [
    "query_10m.exception()"
   ]
  },
  {
   "cell_type": "code",
   "execution_count": 74,
   "id": "efb4efeb",
   "metadata": {},
   "outputs": [],
   "source": [
    "query_1h.exception()"
   ]
  },
  {
   "cell_type": "markdown",
   "id": "a646dcb5",
   "metadata": {},
   "source": [
    "### Lets check if data was ingested in to the online feature store"
   ]
  },
  {
   "cell_type": "code",
   "execution_count": 79,
   "id": "d7683665",
   "metadata": {},
   "outputs": [
    {
     "name": "stdout",
     "output_type": "stream",
     "text": [
      "+------+-----------------+---------------+-----------------+\n",
      "|cc_num|num_trans_per_12h|avg_amt_per_12h|stdev_amt_per_12h|\n",
      "+------+-----------------+---------------+-----------------+\n",
      "+------+-----------------+---------------+-----------------+"
     ]
    }
   ],
   "source": [
    "fs.sql(\"SELECT * FROM card_transactions_12h_agg_1\",online=True).show(20,False)"
   ]
  },
  {
   "cell_type": "code",
   "execution_count": 80,
   "id": "798827fb",
   "metadata": {},
   "outputs": [
    {
     "name": "stdout",
     "output_type": "stream",
     "text": [
      "+------+-----------------+---------------+-----------------+\n",
      "|cc_num|num_trans_per_10m|avg_amt_per_10m|stdev_amt_per_10m|\n",
      "+------+-----------------+---------------+-----------------+\n",
      "+------+-----------------+---------------+-----------------+"
     ]
    }
   ],
   "source": [
    "fs.sql(\"SELECT * FROM card_transactions_10m_agg_1\",online=True).show(20,False)"
   ]
  },
  {
   "cell_type": "code",
   "execution_count": 47,
   "id": "ff2ca0b4",
   "metadata": {},
   "outputs": [
    {
     "name": "stdout",
     "output_type": "stream",
     "text": [
      "0"
     ]
    }
   ],
   "source": [
    "fs.sql(\"SELECT * FROM card_transactions_12h_agg_1\",online=True).count()"
   ]
  },
  {
   "cell_type": "code",
   "execution_count": 83,
   "id": "089d7fb3",
   "metadata": {},
   "outputs": [
    {
     "name": "stdout",
     "output_type": "stream",
     "text": [
      "10800"
     ]
    }
   ],
   "source": [
    "fs.sql(\"SELECT * FROM card_transactions_1\",online=False).count()"
   ]
  },
  {
   "cell_type": "code",
   "execution_count": 84,
   "id": "c2d3d2dd",
   "metadata": {},
   "outputs": [
    {
     "name": "stdout",
     "output_type": "stream",
     "text": [
      "+--------------------------------+-------------------+----------------+-------+--------------------------------+----------------------+-------------------+-----------------------------------------------------------------------+--------------------+\n",
      "|tid                             |datetime           |cc_num          |amount |_hoodie_record_key              |_hoodie_partition_path|_hoodie_commit_time|_hoodie_file_name                                                      |_hoodie_commit_seqno|\n",
      "+--------------------------------+-------------------+----------------+-------+--------------------------------+----------------------+-------------------+-----------------------------------------------------------------------+--------------------+\n",
      "|b21c0a46b247283ccaa11188bc42206f|2021-04-03 15:59:06|4159210768503456|63.23  |b21c0a46b247283ccaa11188bc42206f|                      |20210622084202     |e2e26ccd-6992-4481-b869-0be978767414-0_0-85-5274_20210622084202.parquet|20210622084202_0_1  |\n",
      "|4d704bb705c63a97ed4d0c5d37b0b529|2021-04-03 05:09:43|4794233751173765|885.49 |4d704bb705c63a97ed4d0c5d37b0b529|                      |20210622084202     |e2e26ccd-6992-4481-b869-0be978767414-0_0-85-5274_20210622084202.parquet|20210622084202_0_2  |\n",
      "|dd0479733b277eb9667bed88e444e0b7|2021-04-01 09:59:15|4815447301191763|87.99  |dd0479733b277eb9667bed88e444e0b7|                      |20210622084202     |e2e26ccd-6992-4481-b869-0be978767414-0_0-85-5274_20210622084202.parquet|20210622084202_0_3  |\n",
      "|b65c80e7422bf40c3bce9c77c8b00566|2021-04-03 21:39:31|4858129660270572|51.67  |b65c80e7422bf40c3bce9c77c8b00566|                      |20210622084202     |e2e26ccd-6992-4481-b869-0be978767414-0_0-85-5274_20210622084202.parquet|20210622084202_0_4  |\n",
      "|b71186926fb59b8a5c305826cddcee09|2021-04-01 13:06:31|4223253728365626|21.46  |b71186926fb59b8a5c305826cddcee09|                      |20210622084202     |e2e26ccd-6992-4481-b869-0be978767414-0_0-85-5274_20210622084202.parquet|20210622084202_0_5  |\n",
      "|e529cbe6a192fd6d5bcfdbec620a7c18|2021-04-01 09:13:31|4223253728365626|29.6   |e529cbe6a192fd6d5bcfdbec620a7c18|                      |20210622084202     |e2e26ccd-6992-4481-b869-0be978767414-0_0-85-5274_20210622084202.parquet|20210622084202_0_6  |\n",
      "|b8bc89a3f6fb27c770d32c9d62a0d043|2021-04-03 04:57:23|4965123463794391|723.91 |b8bc89a3f6fb27c770d32c9d62a0d043|                      |20210622084202     |e2e26ccd-6992-4481-b869-0be978767414-0_0-85-5274_20210622084202.parquet|20210622084202_0_7  |\n",
      "|bb4409d9ac8cfd793c290da5ee3f478d|2021-04-03 06:41:54|4934399043970226|20.82  |bb4409d9ac8cfd793c290da5ee3f478d|                      |20210622084202     |e2e26ccd-6992-4481-b869-0be978767414-0_0-85-5274_20210622084202.parquet|20210622084202_0_8  |\n",
      "|d29e383de5c977b7e551abecbebf518d|2021-04-01 21:27:31|4811343280984688|47.6   |d29e383de5c977b7e551abecbebf518d|                      |20210622084202     |e2e26ccd-6992-4481-b869-0be978767414-0_0-85-5274_20210622084202.parquet|20210622084202_0_9  |\n",
      "|d547eaadb3a52323bfbf2bdca2ddf6ae|2021-04-02 09:34:49|4226063306212844|26.77  |d547eaadb3a52323bfbf2bdca2ddf6ae|                      |20210622084202     |e2e26ccd-6992-4481-b869-0be978767414-0_0-85-5274_20210622084202.parquet|20210622084202_0_10 |\n",
      "|83cf43ffc779d9de9d4ccfc445fd041a|2021-04-01 11:53:13|4241453805273630|4610.62|83cf43ffc779d9de9d4ccfc445fd041a|                      |20210622084202     |e2e26ccd-6992-4481-b869-0be978767414-0_0-85-5274_20210622084202.parquet|20210622084202_0_11 |\n",
      "|7ad20c30f12dae7d31bcd32f9ab03a29|2021-04-03 09:50:33|4232153519700594|1.11   |7ad20c30f12dae7d31bcd32f9ab03a29|                      |20210622084202     |e2e26ccd-6992-4481-b869-0be978767414-0_0-85-5274_20210622084202.parquet|20210622084202_0_12 |\n",
      "|e7e1c74ab0f3923b618844b6e9ca9b70|2021-04-01 19:17:25|4106727807825537|815.04 |e7e1c74ab0f3923b618844b6e9ca9b70|                      |20210622084202     |e2e26ccd-6992-4481-b869-0be978767414-0_0-85-5274_20210622084202.parquet|20210622084202_0_13 |\n",
      "|91a331e54b3cb392066939b2f5f1ab87|2021-04-01 17:43:16|4890785453601818|3299.11|91a331e54b3cb392066939b2f5f1ab87|                      |20210622084202     |e2e26ccd-6992-4481-b869-0be978767414-0_0-85-5274_20210622084202.parquet|20210622084202_0_14 |\n",
      "|e7eb95815bea6d90da0a948001149512|2021-04-02 18:41:57|4925013053127624|74.89  |e7eb95815bea6d90da0a948001149512|                      |20210622084202     |e2e26ccd-6992-4481-b869-0be978767414-0_0-85-5274_20210622084202.parquet|20210622084202_0_15 |\n",
      "|3e1fa899b11b9da659dd8f07d85adfe2|2021-04-02 17:19:08|4186054708565028|1.07   |3e1fa899b11b9da659dd8f07d85adfe2|                      |20210622084202     |e2e26ccd-6992-4481-b869-0be978767414-0_0-85-5274_20210622084202.parquet|20210622084202_0_16 |\n",
      "|21f4fd49b7ae26a8e35c670228762eb6|2021-04-02 12:17:11|4135449811055770|86.85  |21f4fd49b7ae26a8e35c670228762eb6|                      |20210622084202     |e2e26ccd-6992-4481-b869-0be978767414-0_0-85-5274_20210622084202.parquet|20210622084202_0_17 |\n",
      "|6dfa91c3a22a7694aab4e92e740e159a|2021-04-01 10:42:10|4460285888258185|84.17  |6dfa91c3a22a7694aab4e92e740e159a|                      |20210622084202     |e2e26ccd-6992-4481-b869-0be978767414-0_0-85-5274_20210622084202.parquet|20210622084202_0_18 |\n",
      "|f8489cf233f60c7003dabc693cf9bae3|2021-04-01 23:15:12|4264101964908346|0.11   |f8489cf233f60c7003dabc693cf9bae3|                      |20210622084202     |e2e26ccd-6992-4481-b869-0be978767414-0_0-85-5274_20210622084202.parquet|20210622084202_0_19 |\n",
      "|d6b38fdafc34fecab28d19e6dd7dec99|2021-04-02 05:26:38|4208317936968510|0.7    |d6b38fdafc34fecab28d19e6dd7dec99|                      |20210622084202     |e2e26ccd-6992-4481-b869-0be978767414-0_0-85-5274_20210622084202.parquet|20210622084202_0_20 |\n",
      "+--------------------------------+-------------------+----------------+-------+--------------------------------+----------------------+-------------------+-----------------------------------------------------------------------+--------------------+\n",
      "only showing top 20 rows"
     ]
    }
   ],
   "source": [
    "fs.sql(\"SELECT * FROM card_transactions_1\",online=False).show(20,False)"
   ]
  },
  {
   "cell_type": "markdown",
   "id": "91ba8cbb",
   "metadata": {},
   "source": [
    "## Insert data in to offline feature group.\n",
    "Hopsworks online feature store will store latest avaible value of feature for low latency model serving. However, we also want to store data in to the offline feature store to store historical data.  "
   ]
  },
  {
   "cell_type": "code",
   "execution_count": 81,
   "id": "7851bb12",
   "metadata": {},
   "outputs": [],
   "source": [
    "def foreach_batch_function_card(batchDF, epoch_id):\n",
    "    batchDF.persist()\n",
    "    print(epoch_id)\n",
    "    extra_hudi_options = {\n",
    "    \"hoodie.bulkinsert.shuffle.parallelism\":\"1\",     \n",
    "    \"hoodie.insert.shuffle.parallelism\":\"1\", \n",
    "    \"hoodie.upsert.shuffle.parallelism\":\"1\",\n",
    "    \"hoodie.parquet.compression.ratio\":\"0.5\"\n",
    "    }\n",
    "    # Transform and write batchDF\n",
    "    card_transactions.insert(batchDF,write_options=extra_hudi_options, storage=\"offline\")\n",
    "    batchDF.unpersist()\n",
    "\n",
    "hudi_card = df_deser.writeStream.foreachBatch(foreach_batch_function_card)\\\n",
    "                    .option(\"checkpointLocation\", hdfs.project_path() + \"/Resources/checkpoint-card\")\\\n",
    "                    .start()    "
   ]
  },
  {
   "cell_type": "code",
   "execution_count": 83,
   "id": "b1038161",
   "metadata": {},
   "outputs": [
    {
     "name": "stdout",
     "output_type": "stream",
     "text": [
      "10800"
     ]
    }
   ],
   "source": [
    "fs.sql(\"SELECT * FROM card_transactions_1\",online=False).count()"
   ]
  },
  {
   "cell_type": "code",
   "execution_count": 84,
   "id": "3c40e0eb",
   "metadata": {},
   "outputs": [
    {
     "name": "stdout",
     "output_type": "stream",
     "text": [
      "+--------------------------------+-------------------+----------------+-------+--------------------------------+----------------------+-------------------+-----------------------------------------------------------------------+--------------------+\n",
      "|tid                             |datetime           |cc_num          |amount |_hoodie_record_key              |_hoodie_partition_path|_hoodie_commit_time|_hoodie_file_name                                                      |_hoodie_commit_seqno|\n",
      "+--------------------------------+-------------------+----------------+-------+--------------------------------+----------------------+-------------------+-----------------------------------------------------------------------+--------------------+\n",
      "|b21c0a46b247283ccaa11188bc42206f|2021-04-03 15:59:06|4159210768503456|63.23  |b21c0a46b247283ccaa11188bc42206f|                      |20210622084202     |e2e26ccd-6992-4481-b869-0be978767414-0_0-85-5274_20210622084202.parquet|20210622084202_0_1  |\n",
      "|4d704bb705c63a97ed4d0c5d37b0b529|2021-04-03 05:09:43|4794233751173765|885.49 |4d704bb705c63a97ed4d0c5d37b0b529|                      |20210622084202     |e2e26ccd-6992-4481-b869-0be978767414-0_0-85-5274_20210622084202.parquet|20210622084202_0_2  |\n",
      "|dd0479733b277eb9667bed88e444e0b7|2021-04-01 09:59:15|4815447301191763|87.99  |dd0479733b277eb9667bed88e444e0b7|                      |20210622084202     |e2e26ccd-6992-4481-b869-0be978767414-0_0-85-5274_20210622084202.parquet|20210622084202_0_3  |\n",
      "|b65c80e7422bf40c3bce9c77c8b00566|2021-04-03 21:39:31|4858129660270572|51.67  |b65c80e7422bf40c3bce9c77c8b00566|                      |20210622084202     |e2e26ccd-6992-4481-b869-0be978767414-0_0-85-5274_20210622084202.parquet|20210622084202_0_4  |\n",
      "|b71186926fb59b8a5c305826cddcee09|2021-04-01 13:06:31|4223253728365626|21.46  |b71186926fb59b8a5c305826cddcee09|                      |20210622084202     |e2e26ccd-6992-4481-b869-0be978767414-0_0-85-5274_20210622084202.parquet|20210622084202_0_5  |\n",
      "|e529cbe6a192fd6d5bcfdbec620a7c18|2021-04-01 09:13:31|4223253728365626|29.6   |e529cbe6a192fd6d5bcfdbec620a7c18|                      |20210622084202     |e2e26ccd-6992-4481-b869-0be978767414-0_0-85-5274_20210622084202.parquet|20210622084202_0_6  |\n",
      "|b8bc89a3f6fb27c770d32c9d62a0d043|2021-04-03 04:57:23|4965123463794391|723.91 |b8bc89a3f6fb27c770d32c9d62a0d043|                      |20210622084202     |e2e26ccd-6992-4481-b869-0be978767414-0_0-85-5274_20210622084202.parquet|20210622084202_0_7  |\n",
      "|bb4409d9ac8cfd793c290da5ee3f478d|2021-04-03 06:41:54|4934399043970226|20.82  |bb4409d9ac8cfd793c290da5ee3f478d|                      |20210622084202     |e2e26ccd-6992-4481-b869-0be978767414-0_0-85-5274_20210622084202.parquet|20210622084202_0_8  |\n",
      "|d29e383de5c977b7e551abecbebf518d|2021-04-01 21:27:31|4811343280984688|47.6   |d29e383de5c977b7e551abecbebf518d|                      |20210622084202     |e2e26ccd-6992-4481-b869-0be978767414-0_0-85-5274_20210622084202.parquet|20210622084202_0_9  |\n",
      "|d547eaadb3a52323bfbf2bdca2ddf6ae|2021-04-02 09:34:49|4226063306212844|26.77  |d547eaadb3a52323bfbf2bdca2ddf6ae|                      |20210622084202     |e2e26ccd-6992-4481-b869-0be978767414-0_0-85-5274_20210622084202.parquet|20210622084202_0_10 |\n",
      "|83cf43ffc779d9de9d4ccfc445fd041a|2021-04-01 11:53:13|4241453805273630|4610.62|83cf43ffc779d9de9d4ccfc445fd041a|                      |20210622084202     |e2e26ccd-6992-4481-b869-0be978767414-0_0-85-5274_20210622084202.parquet|20210622084202_0_11 |\n",
      "|7ad20c30f12dae7d31bcd32f9ab03a29|2021-04-03 09:50:33|4232153519700594|1.11   |7ad20c30f12dae7d31bcd32f9ab03a29|                      |20210622084202     |e2e26ccd-6992-4481-b869-0be978767414-0_0-85-5274_20210622084202.parquet|20210622084202_0_12 |\n",
      "|e7e1c74ab0f3923b618844b6e9ca9b70|2021-04-01 19:17:25|4106727807825537|815.04 |e7e1c74ab0f3923b618844b6e9ca9b70|                      |20210622084202     |e2e26ccd-6992-4481-b869-0be978767414-0_0-85-5274_20210622084202.parquet|20210622084202_0_13 |\n",
      "|91a331e54b3cb392066939b2f5f1ab87|2021-04-01 17:43:16|4890785453601818|3299.11|91a331e54b3cb392066939b2f5f1ab87|                      |20210622084202     |e2e26ccd-6992-4481-b869-0be978767414-0_0-85-5274_20210622084202.parquet|20210622084202_0_14 |\n",
      "|e7eb95815bea6d90da0a948001149512|2021-04-02 18:41:57|4925013053127624|74.89  |e7eb95815bea6d90da0a948001149512|                      |20210622084202     |e2e26ccd-6992-4481-b869-0be978767414-0_0-85-5274_20210622084202.parquet|20210622084202_0_15 |\n",
      "|3e1fa899b11b9da659dd8f07d85adfe2|2021-04-02 17:19:08|4186054708565028|1.07   |3e1fa899b11b9da659dd8f07d85adfe2|                      |20210622084202     |e2e26ccd-6992-4481-b869-0be978767414-0_0-85-5274_20210622084202.parquet|20210622084202_0_16 |\n",
      "|21f4fd49b7ae26a8e35c670228762eb6|2021-04-02 12:17:11|4135449811055770|86.85  |21f4fd49b7ae26a8e35c670228762eb6|                      |20210622084202     |e2e26ccd-6992-4481-b869-0be978767414-0_0-85-5274_20210622084202.parquet|20210622084202_0_17 |\n",
      "|6dfa91c3a22a7694aab4e92e740e159a|2021-04-01 10:42:10|4460285888258185|84.17  |6dfa91c3a22a7694aab4e92e740e159a|                      |20210622084202     |e2e26ccd-6992-4481-b869-0be978767414-0_0-85-5274_20210622084202.parquet|20210622084202_0_18 |\n",
      "|f8489cf233f60c7003dabc693cf9bae3|2021-04-01 23:15:12|4264101964908346|0.11   |f8489cf233f60c7003dabc693cf9bae3|                      |20210622084202     |e2e26ccd-6992-4481-b869-0be978767414-0_0-85-5274_20210622084202.parquet|20210622084202_0_19 |\n",
      "|d6b38fdafc34fecab28d19e6dd7dec99|2021-04-02 05:26:38|4208317936968510|0.7    |d6b38fdafc34fecab28d19e6dd7dec99|                      |20210622084202     |e2e26ccd-6992-4481-b869-0be978767414-0_0-85-5274_20210622084202.parquet|20210622084202_0_20 |\n",
      "+--------------------------------+-------------------+----------------+-------+--------------------------------+----------------------+-------------------+-----------------------------------------------------------------------+--------------------+\n",
      "only showing top 20 rows"
     ]
    }
   ],
   "source": [
    "fs.sql(\"SELECT * FROM card_transactions_1\",online=False).show(20,False)"
   ]
  },
  {
   "cell_type": "code",
   "execution_count": 85,
   "id": "d41ad129",
   "metadata": {},
   "outputs": [],
   "source": [
    "def foreach_batch_function_10m(batchDF, epoch_id):\n",
    "    batchDF.persist()\n",
    "    print(epoch_id)\n",
    "    extra_hudi_options = {\n",
    "    \"hoodie.bulkinsert.shuffle.parallelism\":\"1\",     \n",
    "    \"hoodie.insert.shuffle.parallelism\":\"1\", \n",
    "    \"hoodie.upsert.shuffle.parallelism\":\"1\",\n",
    "    \"hoodie.parquet.compression.ratio\":\"0.5\"\n",
    "    }\n",
    "    # Transform and write batchDF\n",
    "    card_transactions_10m_agg.insert(batchDF,write_options=extra_hudi_options, storage=\"offline\")\n",
    "    batchDF.unpersist()\n",
    "\n",
    "hudi_10m = windowed10mSignalDF.writeStream.foreachBatch(foreach_batch_function_10m)\\\n",
    "                              .option(\"checkpointLocation\", hdfs.project_path() + \"/Resources/checkpoint-data10m\")\\\n",
    "                              .start()    "
   ]
  },
  {
   "cell_type": "code",
   "execution_count": 86,
   "id": "0af12086",
   "metadata": {},
   "outputs": [
    {
     "name": "stdout",
     "output_type": "stream",
     "text": [
      "200"
     ]
    }
   ],
   "source": [
    "fs.sql(\"SELECT * FROM card_transactions_10m_agg_1\",online=False).count()"
   ]
  },
  {
   "cell_type": "code",
   "execution_count": 87,
   "id": "d903524d",
   "metadata": {},
   "outputs": [
    {
     "name": "stdout",
     "output_type": "stream",
     "text": [
      "+----------------+-----------------+---------------+----------------------+------------------+----------------------+-------------------+------------------------------------------------------------------------+----------------------+\n",
      "|cc_num          |num_trans_per_10m|avg_amt_per_10m|stdev_amt_per_10m     |_hoodie_record_key|_hoodie_partition_path|_hoodie_commit_time|_hoodie_file_name                                                       |_hoodie_commit_seqno  |\n",
      "+----------------+-----------------+---------------+----------------------+------------------+----------------------+-------------------+------------------------------------------------------------------------+----------------------+\n",
      "|4295719836133562|4                |2025.41        |1.1368683772161603E-13|4295719836133562  |                      |20210622084752     |860589d7-fdd2-4721-811f-1e1d2f25363d-0_0-149-5907_20210622084752.parquet|20210622084752_0_10801|\n",
      "|4186054708565028|4                |78.05          |0.0                   |4186054708565028  |                      |20210622084752     |860589d7-fdd2-4721-811f-1e1d2f25363d-0_0-149-5907_20210622084752.parquet|20210622084752_0_10802|\n",
      "|4526094550580419|1                |88.43          |NaN                   |4526094550580419  |                      |20210621123425     |860589d7-fdd2-4721-811f-1e1d2f25363d-0_0-259-3925_20210621123425.parquet|20210621123425_0_5503 |\n",
      "|4090612125343330|4                |93.06          |0.0                   |4090612125343330  |                      |20210622084752     |860589d7-fdd2-4721-811f-1e1d2f25363d-0_0-149-5907_20210622084752.parquet|20210622084752_0_10803|\n",
      "|4467512729899486|1                |42.09          |NaN                   |4467512729899486  |                      |20210621123425     |860589d7-fdd2-4721-811f-1e1d2f25363d-0_0-259-3925_20210621123425.parquet|20210621123425_0_5505 |\n",
      "|4893308344742860|1                |459.94         |NaN                   |4893308344742860  |                      |20210621123425     |860589d7-fdd2-4721-811f-1e1d2f25363d-0_0-259-3925_20210621123425.parquet|20210621123425_0_5506 |\n",
      "|4205091756219139|4                |19.7           |0.0                   |4205091756219139  |                      |20210622084752     |860589d7-fdd2-4721-811f-1e1d2f25363d-0_0-149-5907_20210622084752.parquet|20210622084752_0_10804|\n",
      "|4827807245873162|4                |1.74           |1.1102230246251565E-16|4827807245873162  |                      |20210622084752     |860589d7-fdd2-4721-811f-1e1d2f25363d-0_0-149-5907_20210622084752.parquet|20210622084752_0_10805|\n",
      "|4676706014866559|1                |776.22         |NaN                   |4676706014866559  |                      |20210621123425     |860589d7-fdd2-4721-811f-1e1d2f25363d-0_0-259-3925_20210621123425.parquet|20210621123425_0_5509 |\n",
      "|4159210768503456|4                |438.48         |0.0                   |4159210768503456  |                      |20210622084752     |860589d7-fdd2-4721-811f-1e1d2f25363d-0_0-149-5907_20210622084752.parquet|20210622084752_0_10806|\n",
      "|4879493428361965|1                |76.72          |NaN                   |4879493428361965  |                      |20210621123425     |860589d7-fdd2-4721-811f-1e1d2f25363d-0_0-259-3925_20210621123425.parquet|20210621123425_0_5511 |\n",
      "|4301188878743567|1                |1.16           |NaN                   |4301188878743567  |                      |20210621123425     |860589d7-fdd2-4721-811f-1e1d2f25363d-0_0-259-3925_20210621123425.parquet|20210621123425_0_5512 |\n",
      "|4853206196105715|4                |68.15          |0.0                   |4853206196105715  |                      |20210622084752     |860589d7-fdd2-4721-811f-1e1d2f25363d-0_0-149-5907_20210622084752.parquet|20210622084752_0_10807|\n",
      "|4609072304828342|4                |11.7           |0.0                   |4609072304828342  |                      |20210622084752     |860589d7-fdd2-4721-811f-1e1d2f25363d-0_0-149-5907_20210622084752.parquet|20210622084752_0_10808|\n",
      "|4829328237114208|4                |87.37          |0.0                   |4829328237114208  |                      |20210622084752     |860589d7-fdd2-4721-811f-1e1d2f25363d-0_0-149-5907_20210622084752.parquet|20210622084752_0_10809|\n",
      "|4997591057565538|1                |2998.6         |NaN                   |4997591057565538  |                      |20210621123425     |860589d7-fdd2-4721-811f-1e1d2f25363d-0_0-259-3925_20210621123425.parquet|20210621123425_0_5516 |\n",
      "|4479475895277810|1                |20.69          |NaN                   |4479475895277810  |                      |20210621123425     |860589d7-fdd2-4721-811f-1e1d2f25363d-0_0-259-3925_20210621123425.parquet|20210621123425_0_5517 |\n",
      "|4136262720215016|8                |342.465        |335.3647515765484     |4136262720215016  |                      |20210622084752     |860589d7-fdd2-4721-811f-1e1d2f25363d-0_0-149-5907_20210622084752.parquet|20210622084752_0_10810|\n",
      "|4232153519700594|4                |829.54         |0.0                   |4232153519700594  |                      |20210622084752     |860589d7-fdd2-4721-811f-1e1d2f25363d-0_0-149-5907_20210622084752.parquet|20210622084752_0_10811|\n",
      "|4522929944170142|1                |0.69           |NaN                   |4522929944170142  |                      |20210621123425     |860589d7-fdd2-4721-811f-1e1d2f25363d-0_0-259-3925_20210621123425.parquet|20210621123425_0_5520 |\n",
      "+----------------+-----------------+---------------+----------------------+------------------+----------------------+-------------------+------------------------------------------------------------------------+----------------------+\n",
      "only showing top 20 rows"
     ]
    }
   ],
   "source": [
    "fs.sql(\"SELECT * FROM card_transactions_10m_agg_1\",online=False).show(20,False)"
   ]
  },
  {
   "cell_type": "code",
   "execution_count": 88,
   "id": "684aad12",
   "metadata": {},
   "outputs": [],
   "source": [
    "def foreach_batch_function_1h(batchDF, epoch_id):\n",
    "    batchDF.persist()\n",
    "    print(epoch_id)\n",
    "    extra_hudi_options = {\n",
    "    \"hoodie.bulkinsert.shuffle.parallelism\":\"1\",     \n",
    "    \"hoodie.insert.shuffle.parallelism\":\"1\", \n",
    "    \"hoodie.upsert.shuffle.parallelism\":\"1\",\n",
    "    \"hoodie.parquet.compression.ratio\":\"0.5\"\n",
    "    }\n",
    "    # Transform and write batchDF\n",
    "    card_transactions_1h_agg.insert(batchDF,write_options=extra_hudi_options, storage=\"offline\")\n",
    "    batchDF.unpersist()\n",
    "\n",
    "hudi_1h = windowed1hSignalDF.writeStream.foreachBatch(foreach_batch_function_1h)\\\n",
    "                            .option(\"checkpointLocation\", hdfs.project_path() + \"/Resources/checkpoint-1h\")\\\n",
    "                            .start()"
   ]
  },
  {
   "cell_type": "code",
   "execution_count": 90,
   "id": "134b2a85",
   "metadata": {},
   "outputs": [
    {
     "name": "stdout",
     "output_type": "stream",
     "text": [
      "200"
     ]
    }
   ],
   "source": [
    "fs.sql(\"SELECT * FROM card_transactions_1h_agg_1\",online=False).count()"
   ]
  },
  {
   "cell_type": "code",
   "execution_count": 91,
   "id": "4ac8ba63",
   "metadata": {},
   "outputs": [
    {
     "name": "stdout",
     "output_type": "stream",
     "text": [
      "+----------------+----------------+------------------+----------------------+------------------+----------------------+-------------------+------------------------------------------------------------------------+----------------------+\n",
      "|cc_num          |num_trans_per_1h|avg_amt_per_1h    |stdev_amt_per_1h      |_hoodie_record_key|_hoodie_partition_path|_hoodie_commit_time|_hoodie_file_name                                                       |_hoodie_commit_seqno  |\n",
      "+----------------+----------------+------------------+----------------------+------------------+----------------------+-------------------+------------------------------------------------------------------------+----------------------+\n",
      "|4295719836133562|4               |2025.41           |1.1368683772161603E-13|4295719836133562  |                      |20210622085027     |9d5d63ca-0dd4-419b-8504-081e4c051254-0_0-214-6540_20210622085027.parquet|20210622085027_0_10955|\n",
      "|4186054708565028|4               |78.05             |0.0                   |4186054708565028  |                      |20210622085027     |9d5d63ca-0dd4-419b-8504-081e4c051254-0_0-214-6540_20210622085027.parquet|20210622085027_0_10956|\n",
      "|4526094550580419|1               |105.08            |NaN                   |4526094550580419  |                      |20210621123427     |9d5d63ca-0dd4-419b-8504-081e4c051254-0_0-267-3927_20210621123427.parquet|20210621123427_0_5603 |\n",
      "|4467512729899486|1               |7.25              |NaN                   |4467512729899486  |                      |20210621123427     |9d5d63ca-0dd4-419b-8504-081e4c051254-0_0-267-3927_20210621123427.parquet|20210621123427_0_5604 |\n",
      "|4893308344742860|1               |93.56             |NaN                   |4893308344742860  |                      |20210621123427     |9d5d63ca-0dd4-419b-8504-081e4c051254-0_0-267-3927_20210621123427.parquet|20210621123427_0_5605 |\n",
      "|4090612125343330|4               |93.06             |0.0                   |4090612125343330  |                      |20210622085027     |9d5d63ca-0dd4-419b-8504-081e4c051254-0_0-214-6540_20210622085027.parquet|20210622085027_0_10957|\n",
      "|4205091756219139|8               |17.665            |2.1755065091671337    |4205091756219139  |                      |20210622085027     |9d5d63ca-0dd4-419b-8504-081e4c051254-0_0-214-6540_20210622085027.parquet|20210622085027_0_10958|\n",
      "|4827807245873162|4               |1.74              |1.1102230246251565E-16|4827807245873162  |                      |20210622085027     |9d5d63ca-0dd4-419b-8504-081e4c051254-0_0-214-6540_20210622085027.parquet|20210622085027_0_10959|\n",
      "|4301188878743567|1               |85.33             |NaN                   |4301188878743567  |                      |20210621123427     |9d5d63ca-0dd4-419b-8504-081e4c051254-0_0-267-3927_20210621123427.parquet|20210621123427_0_5609 |\n",
      "|4676706014866559|1               |93.04             |NaN                   |4676706014866559  |                      |20210621123427     |9d5d63ca-0dd4-419b-8504-081e4c051254-0_0-267-3927_20210621123427.parquet|20210621123427_0_5610 |\n",
      "|4159210768503456|4               |438.48            |0.0                   |4159210768503456  |                      |20210622085027     |9d5d63ca-0dd4-419b-8504-081e4c051254-0_0-214-6540_20210622085027.parquet|20210622085027_0_10960|\n",
      "|4879493428361965|1               |621.79            |NaN                   |4879493428361965  |                      |20210621123427     |9d5d63ca-0dd4-419b-8504-081e4c051254-0_0-267-3927_20210621123427.parquet|20210621123427_0_5612 |\n",
      "|4853206196105715|4               |68.15             |0.0                   |4853206196105715  |                      |20210622085027     |9d5d63ca-0dd4-419b-8504-081e4c051254-0_0-214-6540_20210622085027.parquet|20210622085027_0_10961|\n",
      "|4609072304828342|4               |40.18             |0.0                   |4609072304828342  |                      |20210622085027     |9d5d63ca-0dd4-419b-8504-081e4c051254-0_0-214-6540_20210622085027.parquet|20210622085027_0_10962|\n",
      "|4829328237114208|4               |87.37             |0.0                   |4829328237114208  |                      |20210622085027     |9d5d63ca-0dd4-419b-8504-081e4c051254-0_0-214-6540_20210622085027.parquet|20210622085027_0_10963|\n",
      "|4997591057565538|2               |437.915           |493.10091386043894    |4997591057565538  |                      |20210621123427     |9d5d63ca-0dd4-419b-8504-081e4c051254-0_0-267-3927_20210621123427.parquet|20210621123427_0_5616 |\n",
      "|4479475895277810|2               |53.835            |36.25336467143429     |4479475895277810  |                      |20210621123427     |9d5d63ca-0dd4-419b-8504-081e4c051254-0_0-267-3927_20210621123427.parquet|20210621123427_0_5617 |\n",
      "|4136262720215016|8               |342.465           |335.3647515765484     |4136262720215016  |                      |20210622085027     |9d5d63ca-0dd4-419b-8504-081e4c051254-0_0-214-6540_20210622085027.parquet|20210622085027_0_10964|\n",
      "|4232153519700594|8               |449.42999999999995|406.3546826533265     |4232153519700594  |                      |20210622085027     |9d5d63ca-0dd4-419b-8504-081e4c051254-0_0-214-6540_20210622085027.parquet|20210622085027_0_10965|\n",
      "|4522929944170142|3               |417.86666666666673|332.2497163781082     |4522929944170142  |                      |20210621123427     |9d5d63ca-0dd4-419b-8504-081e4c051254-0_0-267-3927_20210621123427.parquet|20210621123427_0_5620 |\n",
      "+----------------+----------------+------------------+----------------------+------------------+----------------------+-------------------+------------------------------------------------------------------------+----------------------+\n",
      "only showing top 20 rows"
     ]
    }
   ],
   "source": [
    "fs.sql(\"SELECT * FROM card_transactions_1h_agg_1\",online=False).show(20,False)"
   ]
  },
  {
   "cell_type": "code",
   "execution_count": 92,
   "id": "0508daff",
   "metadata": {},
   "outputs": [],
   "source": [
    "def foreach_batch_function_12h(batchDF, epoch_id):\n",
    "    batchDF.persist()\n",
    "    print(epoch_id)\n",
    "    extra_hudi_options = {\n",
    "    \"hoodie.bulkinsert.shuffle.parallelism\":\"1\",     \n",
    "    \"hoodie.insert.shuffle.parallelism\":\"1\", \n",
    "    \"hoodie.upsert.shuffle.parallelism\":\"1\",\n",
    "    \"hoodie.parquet.compression.ratio\":\"0.5\"\n",
    "    }\n",
    "    # Transform and write batchDF\n",
    "    card_transactions_12h_agg.insert(batchDF,write_options=extra_hudi_options, storage=\"offline\")\n",
    "    batchDF.unpersist()\n",
    "\n",
    "hudi_12h = windowed12hSignalDF.writeStream.foreachBatch(foreach_batch_function_12h)\\\n",
    "                              .option(\"checkpointLocation\", hdfs.project_path() + \"/Resources/checkpoint-12h\")\\\n",
    "                              .start()"
   ]
  },
  {
   "cell_type": "code",
   "execution_count": 93,
   "id": "d6484667",
   "metadata": {},
   "outputs": [
    {
     "name": "stdout",
     "output_type": "stream",
     "text": [
      "200"
     ]
    }
   ],
   "source": [
    "fs.sql(\"SELECT * FROM card_transactions_12h_agg_1\",online=False).count()"
   ]
  },
  {
   "cell_type": "code",
   "execution_count": 94,
   "id": "f9042ce1",
   "metadata": {},
   "outputs": [
    {
     "name": "stdout",
     "output_type": "stream",
     "text": [
      "+----------------+-----------------+------------------+------------------+------------------+----------------------+-------------------+------------------------------------------------------------------------+----------------------+\n",
      "|cc_num          |num_trans_per_12h|avg_amt_per_12h   |stdev_amt_per_12h |_hoodie_record_key|_hoodie_partition_path|_hoodie_commit_time|_hoodie_file_name                                                       |_hoodie_commit_seqno  |\n",
      "+----------------+-----------------+------------------+------------------+------------------+----------------------+-------------------+------------------------------------------------------------------------+----------------------+\n",
      "|4295719836133562|32               |318.625           |656.5736517956368 |4295719836133562  |                      |20210622085148     |95d430f0-84b1-45f2-8896-5fd88371c514-0_0-279-7173_20210622085148.parquet|20210622085148_0_11109|\n",
      "|4186054708565028|36               |119.31888888888888|234.32767111495548|4186054708565028  |                      |20210622085148     |95d430f0-84b1-45f2-8896-5fd88371c514-0_0-279-7173_20210622085148.parquet|20210622085148_0_11110|\n",
      "|4526094550580419|16               |2314.16           |3333.1358298635237|4526094550580419  |                      |20210622085148     |95d430f0-84b1-45f2-8896-5fd88371c514-0_0-279-7173_20210622085148.parquet|20210622085148_0_11111|\n",
      "|4467512729899486|40               |121.30999999999999|202.41069496421733|4467512729899486  |                      |20210622085148     |95d430f0-84b1-45f2-8896-5fd88371c514-0_0-279-7173_20210622085148.parquet|20210622085148_0_11112|\n",
      "|4090612125343330|40               |1542.777          |2947.098044448262 |4090612125343330  |                      |20210622085148     |95d430f0-84b1-45f2-8896-5fd88371c514-0_0-279-7173_20210622085148.parquet|20210622085148_0_11113|\n",
      "|4893308344742860|40               |690.465           |897.9214602196992 |4893308344742860  |                      |20210622085148     |95d430f0-84b1-45f2-8896-5fd88371c514-0_0-279-7173_20210622085148.parquet|20210622085148_0_11114|\n",
      "|4205091756219139|32               |250.50750000000002|379.00106677013883|4205091756219139  |                      |20210622085148     |95d430f0-84b1-45f2-8896-5fd88371c514-0_0-279-7173_20210622085148.parquet|20210622085148_0_11115|\n",
      "|4827807245873162|28               |95.04142857142857 |106.96072085252139|4827807245873162  |                      |20210622085148     |95d430f0-84b1-45f2-8896-5fd88371c514-0_0-279-7173_20210622085148.parquet|20210622085148_0_11116|\n",
      "|4676706014866559|36               |1754.9477777777777|2916.2283836441998|4676706014866559  |                      |20210622085148     |95d430f0-84b1-45f2-8896-5fd88371c514-0_0-279-7173_20210622085148.parquet|20210622085148_0_11117|\n",
      "|4159210768503456|68               |1054.3782352941178|2079.1757619521677|4159210768503456  |                      |20210622085148     |95d430f0-84b1-45f2-8896-5fd88371c514-0_0-279-7173_20210622085148.parquet|20210622085148_0_11118|\n",
      "|4879493428361965|40               |236.82            |278.7363861502523 |4879493428361965  |                      |20210622085148     |95d430f0-84b1-45f2-8896-5fd88371c514-0_0-279-7173_20210622085148.parquet|20210622085148_0_11119|\n",
      "|4301188878743567|36               |167.75111111111113|195.89918231839528|4301188878743567  |                      |20210622085148     |95d430f0-84b1-45f2-8896-5fd88371c514-0_0-279-7173_20210622085148.parquet|20210622085148_0_11120|\n",
      "|4853206196105715|24               |68.33             |48.29483472245831 |4853206196105715  |                      |20210622085148     |95d430f0-84b1-45f2-8896-5fd88371c514-0_0-279-7173_20210622085148.parquet|20210622085148_0_11121|\n",
      "|4609072304828342|4                |11.7              |0.0               |4609072304828342  |                      |20210622085148     |95d430f0-84b1-45f2-8896-5fd88371c514-0_0-279-7173_20210622085148.parquet|20210622085148_0_11122|\n",
      "|4829328237114208|40               |231.50100000000003|276.83206941282043|4829328237114208  |                      |20210622085148     |95d430f0-84b1-45f2-8896-5fd88371c514-0_0-279-7173_20210622085148.parquet|20210622085148_0_11123|\n",
      "|4997591057565538|28               |428.7742857142857 |659.2602009965332 |4997591057565538  |                      |20210622085148     |95d430f0-84b1-45f2-8896-5fd88371c514-0_0-279-7173_20210622085148.parquet|20210622085148_0_11124|\n",
      "|4479475895277810|36               |699.23            |1190.6916157787095|4479475895277810  |                      |20210622085148     |95d430f0-84b1-45f2-8896-5fd88371c514-0_0-279-7173_20210622085148.parquet|20210622085148_0_11125|\n",
      "|4136262720215016|56               |623.5385714285713 |1536.9038147835095|4136262720215016  |                      |20210622085148     |95d430f0-84b1-45f2-8896-5fd88371c514-0_0-279-7173_20210622085148.parquet|20210622085148_0_11126|\n",
      "|4232153519700594|56               |937.9614285714285 |2480.3062773715733|4232153519700594  |                      |20210622085148     |95d430f0-84b1-45f2-8896-5fd88371c514-0_0-279-7173_20210622085148.parquet|20210622085148_0_11127|\n",
      "|4522929944170142|40               |242.12599999999998|310.96224314297837|4522929944170142  |                      |20210622085148     |95d430f0-84b1-45f2-8896-5fd88371c514-0_0-279-7173_20210622085148.parquet|20210622085148_0_11128|\n",
      "+----------------+-----------------+------------------+------------------+------------------+----------------------+-------------------+------------------------------------------------------------------------+----------------------+\n",
      "only showing top 20 rows"
     ]
    }
   ],
   "source": [
    "fs.sql(\"SELECT * FROM card_transactions_12h_agg_1\",online=False).show(20,False)"
   ]
  },
  {
   "cell_type": "markdown",
   "id": "237e18c0",
   "metadata": {},
   "source": [
    "### Check if queries are still active"
   ]
  },
  {
   "cell_type": "code",
   "execution_count": 101,
   "id": "9e4992e1",
   "metadata": {},
   "outputs": [
    {
     "name": "stdout",
     "output_type": "stream",
     "text": [
      "False"
     ]
    }
   ],
   "source": [
    "hudi_card.isActive"
   ]
  },
  {
   "cell_type": "code",
   "execution_count": 102,
   "id": "af0bce8f",
   "metadata": {},
   "outputs": [
    {
     "name": "stdout",
     "output_type": "stream",
     "text": [
      "False"
     ]
    }
   ],
   "source": [
    "hudi_10m.isActive"
   ]
  },
  {
   "cell_type": "code",
   "execution_count": 103,
   "id": "b4486ff2",
   "metadata": {},
   "outputs": [
    {
     "name": "stdout",
     "output_type": "stream",
     "text": [
      "False"
     ]
    }
   ],
   "source": [
    "hudi_1h.isActive"
   ]
  },
  {
   "cell_type": "code",
   "execution_count": 104,
   "id": "e2927c8d",
   "metadata": {},
   "outputs": [
    {
     "name": "stdout",
     "output_type": "stream",
     "text": [
      "False"
     ]
    }
   ],
   "source": [
    "hudi_12h.isActive"
   ]
  },
  {
   "cell_type": "markdown",
   "id": "fe1f55ad",
   "metadata": {},
   "source": [
    "### Stop queries\n",
    "If you are running this from a notebook, you can kill the Spark Structured Streaming Query by stopping the Kernel or by calling its `.stop()` method."
   ]
  },
  {
   "cell_type": "code",
   "execution_count": 99,
   "id": "4bd78545",
   "metadata": {},
   "outputs": [],
   "source": [
    "query_10m.stop()\n",
    "query_1h.stop()\n",
    "query_12h.stop()"
   ]
  },
  {
   "cell_type": "code",
   "execution_count": 100,
   "id": "c83d3f5b",
   "metadata": {},
   "outputs": [],
   "source": [
    "hudi_card.stop()\n",
    "hudi_10m.stop()\n",
    "hudi_1h.stop()\n",
    "hudi_12h.stop()"
   ]
  },
  {
   "cell_type": "code",
   "execution_count": null,
   "id": "c7798e05",
   "metadata": {},
   "outputs": [],
   "source": []
  },
  {
   "cell_type": "code",
   "execution_count": null,
   "id": "a8504b11",
   "metadata": {},
   "outputs": [],
   "source": []
  }
 ],
 "metadata": {
  "kernelspec": {
   "display_name": "PySpark",
   "language": "python",
   "name": "pysparkkernel"
  },
  "language_info": {
   "codemirror_mode": {
    "name": "python",
    "version": 3
   },
   "mimetype": "text/x-python",
   "name": "pyspark",
   "pygments_lexer": "python3"
  }
 },
 "nbformat": 4,
 "nbformat_minor": 5
}