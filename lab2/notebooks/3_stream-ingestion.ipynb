{
 "cells": [
  {
   "cell_type": "markdown",
   "id": "a49ae56f",
   "metadata": {},
   "source": [
    "---\n",
    "title: \"Windowed aggregations using spark streaming and ingestion to the online feature store\"\n",
    "date: 2021-04-25\n",
    "type: technical_note\n",
    "draft: false\n",
    "---"
   ]
  },
  {
   "cell_type": "markdown",
   "id": "b1ac3794",
   "metadata": {},
   "source": [
    "# Feature engineering and ingestion to the Feature Store in a streaming fashion"
   ]
  },
  {
   "cell_type": "markdown",
   "id": "9a5a701f",
   "metadata": {},
   "source": [
    "![overview-3.png](./images/overview-3.png)"
   ]
  },
  {
   "cell_type": "markdown",
   "id": "9f12d372",
   "metadata": {},
   "source": [
    "## Import necessary libraries"
   ]
  },
  {
   "cell_type": "code",
   "execution_count": 1,
   "id": "e85bdfb2",
   "metadata": {},
   "outputs": [
    {
     "name": "stdout",
     "output_type": "stream",
     "text": [
      "Starting Spark application\n"
     ]
    },
    {
     "data": {
      "text/html": [
       "<table>\n",
       "<tr><th>ID</th><th>YARN Application ID</th><th>Kind</th><th>State</th><th>Spark UI</th><th>Driver log</th></tr><tr><td>11</td><td>application_1624217841399_0003</td><td>pyspark</td><td>idle</td><td><a target=\"_blank\" href=\"/hopsworks-api/yarnui/https://featureds11:8089/proxy/application_1624217841399_0003/\">Link</a></td><td><a target=\"_blank\" href=\"/hopsworks-api/yarnui/https://featureds11:8044/node/containerlogs/container_e06_1624217841399_0003_01_000001/Lab2__meb10000\">Link</a></td></tr></table>"
      ],
      "text/plain": [
       "<IPython.core.display.HTML object>"
      ]
     },
     "metadata": {},
     "output_type": "display_data"
    },
    {
     "name": "stdout",
     "output_type": "stream",
     "text": [
      "SparkSession available as 'spark'.\n"
     ]
    }
   ],
   "source": [
    "import json\n",
    "\n",
    "from pyspark.sql.functions import from_json, window, avg,count, stddev, explode, date_format,col\n",
    "from pyspark.sql.types import StructField, StructType, StringType, DoubleType, TimestampType, LongType, IntegerType\n",
    "\n",
    "from hops import kafka, tls, hdfs"
   ]
  },
  {
   "cell_type": "code",
   "execution_count": 3,
   "id": "0514fdd7",
   "metadata": {},
   "outputs": [],
   "source": [
    "# Name of the kafka topic to read card transactions from\n",
    "KAFKA_TOPIC_NAME = \"credit_card_transactions\""
   ]
  },
  {
   "cell_type": "markdown",
   "id": "f315a284",
   "metadata": {},
   "source": [
    "## Create a stream from the kafka topic\n"
   ]
  },
  {
   "cell_type": "code",
   "execution_count": 4,
   "id": "cc5c8ee0",
   "metadata": {},
   "outputs": [],
   "source": [
    "df_read = spark \\\n",
    "  .readStream \\\n",
    "  .format(\"kafka\") \\\n",
    "  .option(\"kafka.bootstrap.servers\", kafka.get_broker_endpoints()) \\\n",
    "  .option(\"kafka.security.protocol\",kafka.get_security_protocol()) \\\n",
    "  .option(\"kafka.ssl.truststore.location\", tls.get_trust_store()) \\\n",
    "  .option(\"kafka.ssl.truststore.password\", tls.get_key_store_pwd()) \\\n",
    "  .option(\"kafka.ssl.keystore.location\", tls.get_key_store()) \\\n",
    "  .option(\"kafka.ssl.keystore.password\", tls.get_key_store_pwd()) \\\n",
    "  .option(\"kafka.ssl.key.password\", tls.get_trust_store_pwd()) \\\n",
    "  .option(\"kafka.ssl.endpoint.identification.algorithm\", \"\") \\\n",
    "  .option(\"startingOffsets\", \"earliest\")\\\n",
    "  .option(\"subscribe\", KAFKA_TOPIC_NAME) \\\n",
    "  .load()"
   ]
  },
  {
   "cell_type": "code",
   "execution_count": 5,
   "id": "ef3e2b84",
   "metadata": {},
   "outputs": [],
   "source": [
    "# Define schema to read from kafka topic \n",
    "parse_schema = StructType([StructField('tid', StringType(), True),\n",
    "                           StructField('datetime', StringType(), True),\n",
    "                           StructField('cc_num', StringType(), True),\n",
    "                           StructField('amount', StringType(), True)])"
   ]
  },
  {
   "cell_type": "code",
   "execution_count": 6,
   "id": "22eed0c6",
   "metadata": {},
   "outputs": [],
   "source": [
    "# Deserialise data from and create streaming query\n",
    "df_deser = df_read.selectExpr(\"CAST(value AS STRING)\")\\\n",
    "                   .select(from_json(\"value\", parse_schema).alias(\"value\"))\\\n",
    "                   .select(\"value.tid\", \"value.datetime\", \"value.cc_num\", \"value.amount\")\\\n",
    "                   .selectExpr(\"CAST(tid as string)\", \"CAST(datetime as string)\", \"CAST(cc_num as long)\", \"CAST(amount as double)\")"
   ]
  },
  {
   "cell_type": "code",
   "execution_count": 7,
   "id": "bb6a71c6",
   "metadata": {},
   "outputs": [
    {
     "name": "stdout",
     "output_type": "stream",
     "text": [
      "True"
     ]
    }
   ],
   "source": [
    "df_deser.isStreaming"
   ]
  },
  {
   "cell_type": "code",
   "execution_count": 8,
   "id": "31d1ce2f",
   "metadata": {},
   "outputs": [
    {
     "name": "stdout",
     "output_type": "stream",
     "text": [
      "root\n",
      " |-- tid: string (nullable = true)\n",
      " |-- datetime: string (nullable = true)\n",
      " |-- cc_num: long (nullable = true)\n",
      " |-- amount: double (nullable = true)"
     ]
    }
   ],
   "source": [
    "df_deser.printSchema()"
   ]
  },
  {
   "cell_type": "markdown",
   "id": "672956f2",
   "metadata": {},
   "source": [
    "## Create windowing aggregations over different time windows using spark streaming."
   ]
  },
  {
   "cell_type": "code",
   "execution_count": 9,
   "id": "dff4081b",
   "metadata": {},
   "outputs": [],
   "source": [
    "# 10 minute window\n",
    "windowed10mSignalDF =df_deser \\\n",
    "    .selectExpr(\"CAST(tid as string)\", \"CAST(datetime as timestamp)\", \"CAST(cc_num as long)\", \"CAST(amount as double)\")\\\n",
    "    .withWatermark(\"datetime\", \"60 minutes\") \\\n",
    "    .groupBy(window(\"datetime\", \"10 minutes\"), \"cc_num\") \\\n",
    "    .agg(avg(\"amount\").alias(\"avg_amt_per_10m\"), stddev(\"amount\").alias(\"stdev_amt_per_10m\"), count(\"cc_num\").alias(\"num_trans_per_10m\"))\\\n",
    "    .select(\"cc_num\", \"num_trans_per_10m\", \"avg_amt_per_10m\", \"stdev_amt_per_10m\")"
   ]
  },
  {
   "cell_type": "code",
   "execution_count": 10,
   "id": "d1062011",
   "metadata": {},
   "outputs": [
    {
     "name": "stdout",
     "output_type": "stream",
     "text": [
      "True"
     ]
    }
   ],
   "source": [
    "windowed10mSignalDF.isStreaming"
   ]
  },
  {
   "cell_type": "code",
   "execution_count": 11,
   "id": "d2525740",
   "metadata": {},
   "outputs": [
    {
     "name": "stdout",
     "output_type": "stream",
     "text": [
      "root\n",
      " |-- cc_num: long (nullable = true)\n",
      " |-- num_trans_per_10m: long (nullable = false)\n",
      " |-- avg_amt_per_10m: double (nullable = true)\n",
      " |-- stdev_amt_per_10m: double (nullable = true)"
     ]
    }
   ],
   "source": [
    "windowed10mSignalDF.printSchema()"
   ]
  },
  {
   "cell_type": "code",
   "execution_count": 12,
   "id": "be76a30b",
   "metadata": {},
   "outputs": [],
   "source": [
    "# 1 hour window\n",
    "windowed1hSignalDF = \\\n",
    "  df_deser \\\n",
    "    .selectExpr(\"CAST(tid as string)\", \"CAST(datetime as timestamp)\", \"CAST(cc_num as long)\", \"CAST(amount as double)\")\\\n",
    "    .withWatermark(\"datetime\", \"60 minutes\") \\\n",
    "    .groupBy(window(\"datetime\", \"60 minutes\"), \"cc_num\") \\\n",
    "    .agg(avg(\"amount\").alias(\"avg_amt_per_1h\"), stddev(\"amount\").alias(\"stdev_amt_per_1h\"), count(\"cc_num\").alias(\"num_trans_per_1h\"))\\\n",
    "    .select(\"cc_num\", \"num_trans_per_1h\", \"avg_amt_per_1h\", \"stdev_amt_per_1h\")"
   ]
  },
  {
   "cell_type": "code",
   "execution_count": 13,
   "id": "26602e55",
   "metadata": {},
   "outputs": [
    {
     "name": "stdout",
     "output_type": "stream",
     "text": [
      "True"
     ]
    }
   ],
   "source": [
    "windowed1hSignalDF.isStreaming"
   ]
  },
  {
   "cell_type": "code",
   "execution_count": 14,
   "id": "7db3fda8",
   "metadata": {},
   "outputs": [
    {
     "name": "stdout",
     "output_type": "stream",
     "text": [
      "root\n",
      " |-- cc_num: long (nullable = true)\n",
      " |-- num_trans_per_1h: long (nullable = false)\n",
      " |-- avg_amt_per_1h: double (nullable = true)\n",
      " |-- stdev_amt_per_1h: double (nullable = true)"
     ]
    }
   ],
   "source": [
    "windowed1hSignalDF.printSchema()"
   ]
  },
  {
   "cell_type": "code",
   "execution_count": 15,
   "id": "76d101e4",
   "metadata": {},
   "outputs": [],
   "source": [
    "# 12 hour window\n",
    "windowed12hSignalDF = \\\n",
    "  df_deser \\\n",
    "    .selectExpr(\"CAST(tid as string)\", \"CAST(datetime as timestamp)\", \"CAST(cc_num as long)\", \"CAST(amount as double)\")\\\n",
    "    .withWatermark(\"datetime\", \"60 minutes\") \\\n",
    "    .groupBy(window(\"datetime\", \"12 hours\"), \"cc_num\") \\\n",
    "    .agg(avg(\"amount\").alias(\"avg_amt_per_12h\"), stddev(\"amount\").alias(\"stdev_amt_per_12h\"), count(\"cc_num\").alias(\"num_trans_per_12h\"))\\\n",
    "    .select(\"cc_num\", \"num_trans_per_12h\", \"avg_amt_per_12h\", \"stdev_amt_per_12h\")"
   ]
  },
  {
   "cell_type": "code",
   "execution_count": 16,
   "id": "c3a50a5e",
   "metadata": {},
   "outputs": [
    {
     "name": "stdout",
     "output_type": "stream",
     "text": [
      "True"
     ]
    }
   ],
   "source": [
    "windowed12hSignalDF.isStreaming"
   ]
  },
  {
   "cell_type": "code",
   "execution_count": 17,
   "id": "ab7d4d95",
   "metadata": {},
   "outputs": [
    {
     "name": "stdout",
     "output_type": "stream",
     "text": [
      "root\n",
      " |-- cc_num: long (nullable = true)\n",
      " |-- num_trans_per_12h: long (nullable = false)\n",
      " |-- avg_amt_per_12h: double (nullable = true)\n",
      " |-- stdev_amt_per_12h: double (nullable = true)"
     ]
    }
   ],
   "source": [
    "windowed12hSignalDF.printSchema()"
   ]
  },
  {
   "cell_type": "markdown",
   "id": "3279646d",
   "metadata": {},
   "source": [
    "### Establish a connection with your Hopsworks feature store."
   ]
  },
  {
   "cell_type": "code",
   "execution_count": 18,
   "id": "c3657939",
   "metadata": {},
   "outputs": [
    {
     "name": "stdout",
     "output_type": "stream",
     "text": [
      "Connected. Call `.close()` to terminate connection gracefully."
     ]
    }
   ],
   "source": [
    "import hsfs\n",
    "connection = hsfs.connection()\n",
    "# get a reference to the feature store, you can access also shared feature stores by providing the feature store name\n",
    "fs = connection.get_feature_store()"
   ]
  },
  {
   "cell_type": "markdown",
   "id": "3f5343b4",
   "metadata": {},
   "source": [
    "## Get feature groups from hopsworks feature store."
   ]
  },
  {
   "cell_type": "code",
   "execution_count": 19,
   "id": "09596396",
   "metadata": {},
   "outputs": [],
   "source": [
    "card_transactions = fs.get_feature_group(\"card_transactions\", version = 1)\n",
    "card_transactions_10m_agg = fs.get_feature_group(\"card_transactions_10m_agg\", version = 1)\n",
    "card_transactions_1h_agg = fs.get_feature_group(\"card_transactions_1h_agg\", version = 1)\n",
    "card_transactions_12h_agg = fs.get_feature_group(\"card_transactions_12h_agg\", version = 1)"
   ]
  },
  {
   "cell_type": "markdown",
   "id": "c6154764",
   "metadata": {},
   "source": [
    "## Insert streaming dataframes to the online feature group\n",
    "\n",
    "Now we are ready to write this streaming dataframe as a long living application to the online storage of the other feature group."
   ]
  },
  {
   "cell_type": "code",
   "execution_count": 28,
   "id": "1e6aac3a",
   "metadata": {},
   "outputs": [],
   "source": [
    "query_10m = card_transactions_10m_agg.insert_stream(windowed10mSignalDF)"
   ]
  },
  {
   "cell_type": "code",
   "execution_count": 29,
   "id": "084e32d9",
   "metadata": {},
   "outputs": [],
   "source": [
    "query_1h = card_transactions_1h_agg.insert_stream(windowed1hSignalDF)"
   ]
  },
  {
   "cell_type": "code",
   "execution_count": 30,
   "id": "ee8a368c",
   "metadata": {},
   "outputs": [],
   "source": [
    "query_12h = card_transactions_12h_agg.insert_stream(windowed12hSignalDF)"
   ]
  },
  {
   "cell_type": "markdown",
   "id": "1937bf51",
   "metadata": {},
   "source": [
    "### Check if spark streaming query is active"
   ]
  },
  {
   "cell_type": "code",
   "execution_count": 36,
   "id": "cca779dd",
   "metadata": {},
   "outputs": [
    {
     "name": "stdout",
     "output_type": "stream",
     "text": [
      "IsActive:\n",
      " query_10m: True\n",
      " query_1h: True\n",
      " query_12h: True"
     ]
    }
   ],
   "source": [
    "print(\"IsActive:\\n query_10m: {}\\n query_1h: {}\\n query_12h: {}\".format(query_10m.isActive, query_1h.isActive, query_12h.isActive))"
   ]
  },
  {
   "cell_type": "markdown",
   "id": "3c40e359",
   "metadata": {},
   "source": [
    "#### We can also check status of a query and if there are any exceptions trown."
   ]
  },
  {
   "cell_type": "code",
   "execution_count": 40,
   "id": "c6ad4b77",
   "metadata": {},
   "outputs": [
    {
     "name": "stdout",
     "output_type": "stream",
     "text": [
      "Status:\n",
      " query_10m: {'message': 'Waiting for data to arrive', 'isDataAvailable': False, 'isTriggerActive': False}\n",
      " query_1h: {'message': 'Waiting for data to arrive', 'isDataAvailable': False, 'isTriggerActive': False}\n",
      " query_12h: {'message': 'Waiting for data to arrive', 'isDataAvailable': False, 'isTriggerActive': False}"
     ]
    }
   ],
   "source": [
    "print(\"Status:\\n query_10m: {}\\n query_1h: {}\\n query_12h: {}\".format(query_10m.status, query_1h.status, query_12h.status))"
   ]
  },
  {
   "cell_type": "code",
   "execution_count": 38,
   "id": "56fae8e4",
   "metadata": {},
   "outputs": [],
   "source": [
    "query_10m.exception()"
   ]
  },
  {
   "cell_type": "markdown",
   "id": "16fce33d",
   "metadata": {},
   "source": [
    "### Lets check if data was ingested in to the online feature store"
   ]
  },
  {
   "cell_type": "code",
   "execution_count": 47,
   "id": "36b96cbb",
   "metadata": {},
   "outputs": [
    {
     "name": "stdout",
     "output_type": "stream",
     "text": [
      "10800"
     ]
    }
   ],
   "source": [
    "fs.sql(\"SELECT * FROM card_transactions_1\",online=False).count()"
   ]
  },
  {
   "cell_type": "code",
   "execution_count": 48,
   "id": "1e5fd29e",
   "metadata": {},
   "outputs": [
    {
     "name": "stdout",
     "output_type": "stream",
     "text": [
      "+--------------------------------+-------------------+----------------+-------+--------------------------------+----------------------+-------------------+-----------------------------------------------------------------------+--------------------+\n",
      "|tid                             |datetime           |cc_num          |amount |_hoodie_record_key              |_hoodie_partition_path|_hoodie_commit_time|_hoodie_file_name                                                      |_hoodie_commit_seqno|\n",
      "+--------------------------------+-------------------+----------------+-------+--------------------------------+----------------------+-------------------+-----------------------------------------------------------------------+--------------------+\n",
      "|6196c4754575efb3390fd6df113a7d44|2021-07-05 19:53:56|4650661577010550|85.78  |6196c4754575efb3390fd6df113a7d44|                      |20210705063333     |8d5c0af6-1945-4365-bc40-3328e3a75708-0_0-91-4569_20210705063333.parquet|20210705063333_0_1  |\n",
      "|cf1bc83c55d8b9d8c2c1d851d8c9de9d|2021-07-05 16:53:13|4281783875596457|73.13  |cf1bc83c55d8b9d8c2c1d851d8c9de9d|                      |20210705063333     |8d5c0af6-1945-4365-bc40-3328e3a75708-0_0-91-4569_20210705063333.parquet|20210705063333_0_2  |\n",
      "|cc9650defeff4a4919c9596606133487|2021-07-03 09:11:58|4534099886119592|54.7   |cc9650defeff4a4919c9596606133487|                      |20210705063333     |8d5c0af6-1945-4365-bc40-3328e3a75708-0_0-91-4569_20210705063333.parquet|20210705063333_0_3  |\n",
      "|3ee35e39cfdf66d1c9cb08d2d9ddc8ef|2021-07-05 15:36:11|4893308344742860|984.89 |3ee35e39cfdf66d1c9cb08d2d9ddc8ef|                      |20210705063333     |8d5c0af6-1945-4365-bc40-3328e3a75708-0_0-91-4569_20210705063333.parquet|20210705063333_0_4  |\n",
      "|d8671a52281eb0c62fbeb7ff0db87e80|2021-07-03 16:23:15|4590824025018285|42.47  |d8671a52281eb0c62fbeb7ff0db87e80|                      |20210705063333     |8d5c0af6-1945-4365-bc40-3328e3a75708-0_0-91-4569_20210705063333.parquet|20210705063333_0_5  |\n",
      "|7cc93918ecceaad2139886ff8b0c4281|2021-07-05 06:46:35|4475707049141722|46.29  |7cc93918ecceaad2139886ff8b0c4281|                      |20210705063333     |8d5c0af6-1945-4365-bc40-3328e3a75708-0_0-91-4569_20210705063333.parquet|20210705063333_0_6  |\n",
      "|fc74bc3ee03d67e24c0af1ceff4a1d00|2021-07-05 00:22:59|4750764047485706|58.71  |fc74bc3ee03d67e24c0af1ceff4a1d00|                      |20210705063333     |8d5c0af6-1945-4365-bc40-3328e3a75708-0_0-91-4569_20210705063333.parquet|20210705063333_0_7  |\n",
      "|5ee22d4e84a2183a1fdd195b5551b413|2021-07-05 00:41:22|4260567335033291|519.88 |5ee22d4e84a2183a1fdd195b5551b413|                      |20210705063333     |8d5c0af6-1945-4365-bc40-3328e3a75708-0_0-91-4569_20210705063333.parquet|20210705063333_0_8  |\n",
      "|a1510e0dd74c7fa6de4a8022d9bc8aab|2021-07-05 20:22:01|4934399043970226|49.06  |a1510e0dd74c7fa6de4a8022d9bc8aab|                      |20210705063333     |8d5c0af6-1945-4365-bc40-3328e3a75708-0_0-91-4569_20210705063333.parquet|20210705063333_0_9  |\n",
      "|949d098e9d2e85ad479b9bba22265825|2021-07-05 23:02:24|4965123463794391|988.26 |949d098e9d2e85ad479b9bba22265825|                      |20210705063333     |8d5c0af6-1945-4365-bc40-3328e3a75708-0_0-91-4569_20210705063333.parquet|20210705063333_0_10 |\n",
      "|ebd93f842eb3896c0e13b9e3b81e6b6d|2021-07-04 15:55:10|4064963388466975|47.47  |ebd93f842eb3896c0e13b9e3b81e6b6d|                      |20210705063333     |8d5c0af6-1945-4365-bc40-3328e3a75708-0_0-91-4569_20210705063333.parquet|20210705063333_0_11 |\n",
      "|0de071fff86fec944be3206ad63979f4|2021-07-05 10:08:30|4880931623427294|271.57 |0de071fff86fec944be3206ad63979f4|                      |20210705063333     |8d5c0af6-1945-4365-bc40-3328e3a75708-0_0-91-4569_20210705063333.parquet|20210705063333_0_12 |\n",
      "|1c08b44bc90272ff758595e3165c0175|2021-07-05 23:29:31|4398950686897867|1586.34|1c08b44bc90272ff758595e3165c0175|                      |20210705063333     |8d5c0af6-1945-4365-bc40-3328e3a75708-0_0-91-4569_20210705063333.parquet|20210705063333_0_13 |\n",
      "|3621a53786ceb88778be7d2f7c75d687|2021-07-05 08:56:54|4241453805273630|161.43 |3621a53786ceb88778be7d2f7c75d687|                      |20210705063333     |8d5c0af6-1945-4365-bc40-3328e3a75708-0_0-91-4569_20210705063333.parquet|20210705063333_0_14 |\n",
      "|b78d70d83d73f3bc9561a3ca7666dc83|2021-07-03 16:02:14|4283869396121582|1281.37|b78d70d83d73f3bc9561a3ca7666dc83|                      |20210705063333     |8d5c0af6-1945-4365-bc40-3328e3a75708-0_0-91-4569_20210705063333.parquet|20210705063333_0_15 |\n",
      "|c429f83b068cea1efb5afa3c4ed1bbcf|2021-07-03 13:25:03|4861687009794870|4931.46|c429f83b068cea1efb5afa3c4ed1bbcf|                      |20210705063333     |8d5c0af6-1945-4365-bc40-3328e3a75708-0_0-91-4569_20210705063333.parquet|20210705063333_0_16 |\n",
      "|6c9885ead5ac69b32de49eca2d121c3e|2021-07-03 02:00:29|4526265126641428|15.83  |6c9885ead5ac69b32de49eca2d121c3e|                      |20210705063333     |8d5c0af6-1945-4365-bc40-3328e3a75708-0_0-91-4569_20210705063333.parquet|20210705063333_0_17 |\n",
      "|5fc5fe61012de894de69d4eba7227c2c|2021-07-03 20:58:07|4654779988286902|27.66  |5fc5fe61012de894de69d4eba7227c2c|                      |20210705063333     |8d5c0af6-1945-4365-bc40-3328e3a75708-0_0-91-4569_20210705063333.parquet|20210705063333_0_18 |\n",
      "|e3e0e0c31f48e7270eeb65c600fe2224|2021-07-05 02:25:22|4332149413304557|7.74   |e3e0e0c31f48e7270eeb65c600fe2224|                      |20210705063333     |8d5c0af6-1945-4365-bc40-3328e3a75708-0_0-91-4569_20210705063333.parquet|20210705063333_0_19 |\n",
      "|e3c88bfec6496fdff52e2653c99530da|2021-07-05 15:43:22|4442939653501780|497.19 |e3c88bfec6496fdff52e2653c99530da|                      |20210705063333     |8d5c0af6-1945-4365-bc40-3328e3a75708-0_0-91-4569_20210705063333.parquet|20210705063333_0_20 |\n",
      "+--------------------------------+-------------------+----------------+-------+--------------------------------+----------------------+-------------------+-----------------------------------------------------------------------+--------------------+\n",
      "only showing top 20 rows"
     ]
    }
   ],
   "source": [
    "fs.sql(\"SELECT * FROM card_transactions_1\",online=False).show(20,False)"
   ]
  },
  {
   "cell_type": "code",
   "execution_count": 49,
   "id": "720978d0",
   "metadata": {},
   "outputs": [
    {
     "name": "stdout",
     "output_type": "stream",
     "text": [
      "+------+-----------------+---------------+-----------------+\n",
      "|cc_num|num_trans_per_10m|avg_amt_per_10m|stdev_amt_per_10m|\n",
      "+------+-----------------+---------------+-----------------+\n",
      "+------+-----------------+---------------+-----------------+"
     ]
    }
   ],
   "source": [
    "fs.sql(\"SELECT * FROM card_transactions_10m_agg_1\",online=True).show(20,False)"
   ]
  },
  {
   "cell_type": "code",
   "execution_count": 29,
   "id": "c0cf52ff",
   "metadata": {},
   "outputs": [
    {
     "name": "stdout",
     "output_type": "stream",
     "text": [
      "+----------------+-----------------+------------------+------------------+\n",
      "|cc_num          |num_trans_per_12h|avg_amt_per_12h   |stdev_amt_per_12h |\n",
      "+----------------+-----------------+------------------+------------------+\n",
      "|4444037300542691|7                |154.51857142857145|238.93552871214524|\n",
      "|4609072304828342|7                |176.02714285714288|263.06316920176454|\n",
      "|4161715127983823|10               |928.3030000000001 |1809.7934375689888|\n",
      "|4223253728365626|13               |1201.686153846154 |2724.0564739389993|\n",
      "|4572259224622748|9                |1291.5500000000002|2495.189283160699 |\n",
      "|4436298663019939|11               |149.78636363636366|235.75729924109365|\n",
      "|4231082502226286|10               |977.8430000000001 |2071.1095165208753|\n",
      "|4159210768503456|6                |37.303333333333335|26.403001092047596|\n",
      "|4090612125343330|15               |646.7259999999999 |1336.9214811370616|\n",
      "|4416410688550228|11               |663.0627272727273 |1631.6188600717442|\n",
      "|4811343280984688|6                |237.08166666666662|305.3312340666554 |\n",
      "|4853206196105715|10               |1077.6439999999998|2793.72050986255  |\n",
      "|4032763187099525|10               |425.006           |1204.4018071612704|\n",
      "|4645884898081724|8                |171.48125000000002|200.51632676222223|\n",
      "|4524584153018280|7                |160.18714285714285|223.19407330200963|\n",
      "|4815447301191763|6                |78.35833333333333 |29.206839895248287|\n",
      "|4872287670027309|3                |260.63666666666666|427.3684126527525 |\n",
      "|4734811798843814|7                |122.81714285714285|166.56810466135522|\n",
      "|4609746692923340|9                |1401.2866666666669|3007.164227935514 |\n",
      "|4526611032294580|6                |109.52166666666666|150.55966530471125|\n",
      "+----------------+-----------------+------------------+------------------+\n",
      "only showing top 20 rows"
     ]
    }
   ],
   "source": [
    "fs.sql(\"SELECT * FROM card_transactions_12h_agg_1\",online=True).show(20,False)"
   ]
  },
  {
   "cell_type": "code",
   "execution_count": 30,
   "id": "dee89397",
   "metadata": {},
   "outputs": [
    {
     "name": "stdout",
     "output_type": "stream",
     "text": [
      "100"
     ]
    }
   ],
   "source": [
    "fs.sql(\"SELECT * FROM card_transactions_12h_agg_1\",online=True).count()"
   ]
  },
  {
   "cell_type": "markdown",
   "id": "5e98422c",
   "metadata": {},
   "source": [
    "## Insert data in to offline feature group.\n",
    "Hopsworks online feature store will store latest avaible value of feature for low latency model serving. However, we also want to store data in to the offline feature store to store historical data.  "
   ]
  },
  {
   "cell_type": "code",
   "execution_count": 41,
   "id": "d418c29e",
   "metadata": {},
   "outputs": [],
   "source": [
    "def foreach_batch_function_card(batchDF, epoch_id):\n",
    "    batchDF.persist()\n",
    "    print(epoch_id)\n",
    "    extra_hudi_options = {\n",
    "    \"hoodie.bulkinsert.shuffle.parallelism\":\"1\",     \n",
    "    \"hoodie.insert.shuffle.parallelism\":\"1\", \n",
    "    \"hoodie.upsert.shuffle.parallelism\":\"1\",\n",
    "    \"hoodie.parquet.compression.ratio\":\"0.5\"\n",
    "    }\n",
    "    # Transform and write batchDF\n",
    "    card_transactions.statistics_config = {\"enabled\": False, \"histograms\": False, \"correlations\": False}\n",
    "    card_transactions.insert(batchDF,write_options=extra_hudi_options, storage=\"offline\")\n",
    "    batchDF.unpersist()\n",
    "\n",
    "hudi_card = df_deser.writeStream.foreachBatch(foreach_batch_function_card)\\\n",
    "                    .option(\"checkpointLocation\", hdfs.project_path() + \"/Resources/checkpoint-card\")\\\n",
    "                    .start()    "
   ]
  },
  {
   "cell_type": "code",
   "execution_count": 42,
   "id": "e7aa39f7",
   "metadata": {},
   "outputs": [],
   "source": [
    "def foreach_batch_function_10m(batchDF, epoch_id):\n",
    "    batchDF.persist()\n",
    "    print(epoch_id)\n",
    "    extra_hudi_options = {\n",
    "    \"hoodie.bulkinsert.shuffle.parallelism\":\"1\",     \n",
    "    \"hoodie.insert.shuffle.parallelism\":\"1\", \n",
    "    \"hoodie.upsert.shuffle.parallelism\":\"1\",\n",
    "    \"hoodie.parquet.compression.ratio\":\"0.5\"\n",
    "    }\n",
    "    # Transform and write batchDF\n",
    "    card_transactions_10m_agg.statistics_config = {\"enabled\": False, \"histograms\": False, \"correlations\": False}\n",
    "    card_transactions_10m_agg.insert(batchDF,write_options=extra_hudi_options, storage=\"offline\")\n",
    "    batchDF.unpersist()\n",
    "\n",
    "hudi_10m = windowed10mSignalDF.writeStream.foreachBatch(foreach_batch_function_10m)\\\n",
    "                              .option(\"checkpointLocation\", hdfs.project_path() + \"/Resources/checkpoint-data10m\")\\\n",
    "                              .start()    "
   ]
  },
  {
   "cell_type": "code",
   "execution_count": 43,
   "id": "02c691e1",
   "metadata": {},
   "outputs": [],
   "source": [
    "def foreach_batch_function_1h(batchDF, epoch_id):\n",
    "    batchDF.persist()\n",
    "    print(epoch_id)\n",
    "    extra_hudi_options = {\n",
    "    \"hoodie.bulkinsert.shuffle.parallelism\":\"1\",     \n",
    "    \"hoodie.insert.shuffle.parallelism\":\"1\", \n",
    "    \"hoodie.upsert.shuffle.parallelism\":\"1\",\n",
    "    \"hoodie.parquet.compression.ratio\":\"0.5\"\n",
    "    }\n",
    "    # Transform and write batchDF\n",
    "    card_transactions_1h_agg.statistics_config = {\"enabled\": False, \"histograms\": False, \"correlations\": False}\n",
    "    card_transactions_1h_agg.insert(batchDF,write_options=extra_hudi_options, storage=\"offline\")\n",
    "    batchDF.unpersist()\n",
    "\n",
    "hudi_1h = windowed1hSignalDF.writeStream.foreachBatch(foreach_batch_function_1h)\\\n",
    "                            .option(\"checkpointLocation\", hdfs.project_path() + \"/Resources/checkpoint-1h\")\\\n",
    "                            .start()"
   ]
  },
  {
   "cell_type": "code",
   "execution_count": 44,
   "id": "0c6cf95a",
   "metadata": {},
   "outputs": [],
   "source": [
    "def foreach_batch_function_12h(batchDF, epoch_id):\n",
    "    batchDF.persist()\n",
    "    print(epoch_id)\n",
    "    extra_hudi_options = {\n",
    "    \"hoodie.bulkinsert.shuffle.parallelism\":\"1\",     \n",
    "    \"hoodie.insert.shuffle.parallelism\":\"1\", \n",
    "    \"hoodie.upsert.shuffle.parallelism\":\"1\",\n",
    "    \"hoodie.parquet.compression.ratio\":\"0.5\"\n",
    "    }\n",
    "    # Transform and write batchDF\n",
    "    card_transactions_12h_agg.statistics_config = {\"enabled\": False, \"histograms\": False, \"correlations\": False}\n",
    "    card_transactions_12h_agg.insert(batchDF,write_options=extra_hudi_options, storage=\"offline\")\n",
    "    batchDF.unpersist()\n",
    "\n",
    "hudi_12h = windowed12hSignalDF.writeStream.foreachBatch(foreach_batch_function_12h)\\\n",
    "                              .option(\"checkpointLocation\", hdfs.project_path() + \"/Resources/checkpoint-12h\")\\\n",
    "                              .start()"
   ]
  },
  {
   "cell_type": "markdown",
   "id": "dd077867",
   "metadata": {},
   "source": [
    "### Check if queries are still active"
   ]
  },
  {
   "cell_type": "code",
   "execution_count": 45,
   "id": "7504bddb",
   "metadata": {},
   "outputs": [
    {
     "name": "stdout",
     "output_type": "stream",
     "text": [
      "IsActive:\n",
      " hudi_10m: True\n",
      " hudi_1h: True\n",
      " hudi_12h: True"
     ]
    }
   ],
   "source": [
    "print(\"IsActive:\\n hudi_10m: {}\\n hudi_1h: {}\\n hudi_12h: {}\".format(hudi_10m.isActive, hudi_1h.isActive, hudi_12h.isActive))"
   ]
  },
  {
   "cell_type": "code",
   "execution_count": 46,
   "id": "29ed089e",
   "metadata": {},
   "outputs": [
    {
     "name": "stdout",
     "output_type": "stream",
     "text": [
      "Status:\n",
      " hudi_10m: {'message': 'Processing new data', 'isDataAvailable': True, 'isTriggerActive': True}\n",
      " hudi_1h: {'message': 'Processing new data', 'isDataAvailable': True, 'isTriggerActive': True}\n",
      " hudi_12h: {'message': 'Processing new data', 'isDataAvailable': True, 'isTriggerActive': True}"
     ]
    }
   ],
   "source": [
    "print(\"Status:\\n hudi_10m: {}\\n hudi_1h: {}\\n hudi_12h: {}\".format(hudi_10m.status, hudi_1h.status, hudi_12h.status))"
   ]
  },
  {
   "cell_type": "markdown",
   "id": "1509bfdc",
   "metadata": {},
   "source": [
    "### Stop queries (optional)\n",
    "If you are running this from a notebook, you can kill the Spark Structured Streaming Query by stopping the Kernel or by calling its `.stop()` method."
   ]
  },
  {
   "cell_type": "code",
   "execution_count": null,
   "id": "424f7a8c",
   "metadata": {},
   "outputs": [],
   "source": [
    "hudi_card.stop()\n",
    "hudi_10m.stop()\n",
    "hudi_1h.stop()\n",
    "hudi_12h.stop()"
   ]
  },
  {
   "cell_type": "markdown",
   "id": "3bc93cea",
   "metadata": {},
   "source": [
    "> NOTE: For this demo, you can leave the ingestion queries running to continuosly processed upcoming transactions. This is necessary if you want to generate fraudulent transactions afterwards."
   ]
  },
  {
   "cell_type": "code",
   "execution_count": null,
   "id": "4dc3601f",
   "metadata": {},
   "outputs": [],
   "source": [
    "query_10m.stop()\n",
    "query_1h.stop()\n",
    "query_12h.stop()"
   ]
  },
  {
   "cell_type": "code",
   "execution_count": null,
   "id": "8d47b632",
   "metadata": {},
   "outputs": [],
   "source": []
  }
 ],
 "metadata": {
  "kernelspec": {
   "display_name": "PySpark",
   "language": "python",
   "name": "pysparkkernel"
  },
  "language_info": {
   "codemirror_mode": {
    "name": "python",
    "version": 3
   },
   "mimetype": "text/x-python",
   "name": "pyspark",
   "pygments_lexer": "python3"
  }
 },
 "nbformat": 4,
 "nbformat_minor": 5
}