{
 "cells": [
  {
   "cell_type": "markdown",
   "id": "d883568f",
   "metadata": {},
   "source": [
    "---\n",
    "title: \"Online Feature Serving\"\n",
    "date: 2021-04-25\n",
    "type: technical_note\n",
    "draft: false\n",
    "---"
   ]
  },
  {
   "cell_type": "markdown",
   "id": "fba3d981",
   "metadata": {},
   "source": [
    "## Connect to the Feature Store"
   ]
  },
  {
   "cell_type": "code",
   "execution_count": 1,
   "id": "ec1f3b58",
   "metadata": {},
   "outputs": [
    {
     "name": "stdout",
     "output_type": "stream",
     "text": [
      "Starting Spark application\n"
     ]
    },
    {
     "data": {
      "text/html": [
       "<table>\n",
       "<tr><th>ID</th><th>YARN Application ID</th><th>Kind</th><th>State</th><th>Spark UI</th><th>Driver log</th></tr><tr><td>25</td><td>application_1624276539905_0005</td><td>pyspark</td><td>idle</td><td><a target=\"_blank\" href=\"/hopsworks-api/yarnui/https://resourcemanager.service.consul:8089/proxy/application_1624276539905_0005/\">Link</a></td><td><a target=\"_blank\" href=\"/hopsworks-api/yarnui/https://featureds11:8044/node/containerlogs/container_e07_1624276539905_0005_01_000001/kafka__holuse19\">Link</a></td></tr></table>"
      ],
      "text/plain": [
       "<IPython.core.display.HTML object>"
      ]
     },
     "metadata": {},
     "output_type": "display_data"
    },
    {
     "name": "stdout",
     "output_type": "stream",
     "text": [
      "SparkSession available as 'spark'.\n",
      "Connected. Call `.close()` to terminate connection gracefully."
     ]
    }
   ],
   "source": [
    "import hsfs\n",
    "\n",
    "connection = hsfs.connection()\n",
    "fs = connection.get_feature_store()"
   ]
  },
  {
   "cell_type": "markdown",
   "id": "09aec9e4",
   "metadata": {},
   "source": [
    "## Get training dataset"
   ]
  },
  {
   "cell_type": "code",
   "execution_count": 20,
   "id": "40087dac",
   "metadata": {},
   "outputs": [],
   "source": [
    "td_meta = fs.get_training_dataset(\"card_fraud_model3\", 1)"
   ]
  },
  {
   "cell_type": "code",
   "execution_count": 28,
   "id": "fe5432a6",
   "metadata": {},
   "outputs": [
    {
     "name": "stdout",
     "output_type": "stream",
     "text": [
      "++\n",
      "||\n",
      "++\n",
      "||\n",
      "||\n",
      "||\n",
      "||\n",
      "||\n",
      "||\n",
      "||\n",
      "||\n",
      "||\n",
      "||\n",
      "++\n",
      "only showing top 10 rows"
     ]
    }
   ],
   "source": [
    "td_meta.show(10)"
   ]
  },
  {
   "cell_type": "markdown",
   "id": "2f48613f",
   "metadata": {},
   "source": [
    "To identify which primary key names are used for this training dataset query use serving_keys method"
   ]
  },
  {
   "cell_type": "code",
   "execution_count": 29,
   "id": "c83e9c54",
   "metadata": {},
   "outputs": [
    {
     "name": "stdout",
     "output_type": "stream",
     "text": [
      "{'cc_num'}"
     ]
    }
   ],
   "source": [
    "#`init_prepared_statement` method is needed to get serving_keys in case `get_serving_vector` has not beed called yet. This is not necessary for `get_serving_vector` method itself\n",
    "td_meta.init_prepared_statement() \n",
    "td_meta.serving_keys"
   ]
  },
  {
   "cell_type": "code",
   "execution_count": 30,
   "id": "4ee09ee7",
   "metadata": {},
   "outputs": [
    {
     "name": "stdout",
     "output_type": "stream",
     "text": [
      "++\n",
      "||\n",
      "++\n",
      "||\n",
      "++\n",
      "only showing top 1 row"
     ]
    }
   ],
   "source": [
    "td_meta.show(1)"
   ]
  },
  {
   "cell_type": "markdown",
   "id": "be600cd2",
   "metadata": {},
   "source": [
    "For demo purposes lets prepare list of primary key values that we are interested in to buils feature vectore from online feature store"
   ]
  },
  {
   "cell_type": "code",
   "execution_count": 26,
   "id": "23c70a4c",
   "metadata": {},
   "outputs": [],
   "source": [
    "card_numbers = [\"4867010117638802\",\n",
    "                 \"4564139086560436\", \n",
    "                 \"4638396144844325\",\n",
    "                 \"4460285888258185\", \n",
    "                 \"4032763187099525\", \n",
    "                 \"4650661577010550\",\n",
    "                 \"4925013053127624\"\n",
    "                ]"
   ]
  },
  {
   "cell_type": "code",
   "execution_count": 31,
   "id": "58386355",
   "metadata": {},
   "outputs": [
    {
     "name": "stdout",
     "output_type": "stream",
     "text": [
      "[]\n",
      "[]\n",
      "[]\n",
      "[]\n",
      "[]\n",
      "[]\n",
      "[]"
     ]
    }
   ],
   "source": [
    "for card_number in card_numbers:\n",
    "    serving_vector = td_meta.get_serving_vector({'cc_num': card_number})\n",
    "    print (serving_vector)"
   ]
  },
  {
   "cell_type": "code",
   "execution_count": null,
   "id": "91f1eb19",
   "metadata": {},
   "outputs": [],
   "source": []
  }
 ],
 "metadata": {
  "kernelspec": {
   "display_name": "PySpark",
   "language": "python",
   "name": "pysparkkernel"
  },
  "language_info": {
   "codemirror_mode": {
    "name": "python",
    "version": 3
   },
   "mimetype": "text/x-python",
   "name": "pyspark",
   "pygments_lexer": "python3"
  }
 },
 "nbformat": 4,
 "nbformat_minor": 5
}