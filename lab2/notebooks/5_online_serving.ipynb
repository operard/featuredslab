{
 "cells": [
  {
   "cell_type": "markdown",
   "id": "c3acba75",
   "metadata": {},
   "source": [
    "---\n",
    "title: \"Online Feature Serving\"\n",
    "date: 2021-04-25\n",
    "type: technical_note\n",
    "draft: false\n",
    "---"
   ]
  },
  {
   "cell_type": "markdown",
   "id": "96498029",
   "metadata": {},
   "source": [
    "## Connect to the Feature Store"
   ]
  },
  {
   "cell_type": "code",
   "execution_count": 1,
   "id": "450024a4",
   "metadata": {},
   "outputs": [
    {
     "name": "stdout",
     "output_type": "stream",
     "text": [
      "Starting Spark application\n"
     ]
    },
    {
     "data": {
      "text/html": [
       "<table>\n",
       "<tr><th>ID</th><th>YARN Application ID</th><th>Kind</th><th>State</th><th>Spark UI</th><th>Driver log</th></tr><tr><td>31</td><td>application_1624276539905_0011</td><td>pyspark</td><td>idle</td><td><a target=\"_blank\" href=\"/hopsworks-api/yarnui/https://resourcemanager.service.consul:8089/proxy/application_1624276539905_0011/\">Link</a></td><td><a target=\"_blank\" href=\"/hopsworks-api/yarnui/https://featureds11:8044/node/containerlogs/container_e07_1624276539905_0011_01_000001/kafka__holuse19\">Link</a></td></tr></table>"
      ],
      "text/plain": [
       "<IPython.core.display.HTML object>"
      ]
     },
     "metadata": {},
     "output_type": "display_data"
    },
    {
     "name": "stdout",
     "output_type": "stream",
     "text": [
      "SparkSession available as 'spark'.\n",
      "Connected. Call `.close()` to terminate connection gracefully."
     ]
    }
   ],
   "source": [
    "import hsfs\n",
    "\n",
    "connection = hsfs.connection()\n",
    "fs = connection.get_feature_store()"
   ]
  },
  {
   "cell_type": "markdown",
   "id": "6b88fa7c",
   "metadata": {},
   "source": [
    "## Get training dataset"
   ]
  },
  {
   "cell_type": "code",
   "execution_count": 2,
   "id": "a11b59ee",
   "metadata": {},
   "outputs": [],
   "source": [
    "td_meta = fs.get_training_dataset(\"card_fraud_model_holuser20\", 1)"
   ]
  },
  {
   "cell_type": "code",
   "execution_count": 3,
   "id": "c54bd44e",
   "metadata": {},
   "outputs": [
    {
     "name": "stdout",
     "output_type": "stream",
     "text": [
      "+---------------+---------------+----------------+----------------+--------------+-----------------+-----------------+-----------------+-----------------+\n",
      "|avg_amt_per_10m|avg_amt_per_12h|stdev_amt_per_1h|num_trans_per_1h|avg_amt_per_1h|num_trans_per_12h|stdev_amt_per_12h|num_trans_per_10m|stdev_amt_per_10m|\n",
      "+---------------+---------------+----------------+----------------+--------------+-----------------+-----------------+-----------------+-----------------+\n",
      "|        2187.16|       863.5691|        548.8967|               3|        360.56|               22|        1866.4856|                1|              NaN|\n",
      "|           97.6|      1092.6254|             NaN|               1|        279.99|               26|        2200.1265|                1|              NaN|\n",
      "|        4859.49|      1273.4976|             NaN|               1|        796.41|               16|        2138.3506|                1|              NaN|\n",
      "|          89.22|      163.36412|             NaN|               1|         51.38|               17|        204.37704|                1|              NaN|\n",
      "|          63.98|      146.84143|   3.5527137E-15|               4|         63.98|               28|        274.86368|                4|    3.5527137E-15|\n",
      "|          78.05|     119.318886|             0.0|               4|         78.05|               36|        234.32767|                4|              0.0|\n",
      "|          27.68|      360.22937|        31.80551|               4|         45.35|               16|        852.64374|                1|              NaN|\n",
      "|           4.13|      27.616667|       15.287343|               8|         18.43|               36|        27.031517|                4|              0.0|\n",
      "|          39.49|        353.359|        30.33415|               8|        67.865|               40|         871.5952|                4|              0.0|\n",
      "|           1.17|      1726.8033|         5624.78|               3|        3315.1|               24|        2481.4258|                1|              NaN|\n",
      "+---------------+---------------+----------------+----------------+--------------+-----------------+-----------------+-----------------+-----------------+\n",
      "only showing top 10 rows"
     ]
    }
   ],
   "source": [
    "td_meta.show(10)"
   ]
  },
  {
   "cell_type": "markdown",
   "id": "cdd4e01a",
   "metadata": {},
   "source": [
    "To identify which primary key names are used for this training dataset query use serving_keys method"
   ]
  },
  {
   "cell_type": "code",
   "execution_count": 4,
   "id": "feec2adc",
   "metadata": {},
   "outputs": [
    {
     "name": "stdout",
     "output_type": "stream",
     "text": [
      "{'cc_num'}"
     ]
    }
   ],
   "source": [
    "#`init_prepared_statement` method is needed to get serving_keys in case `get_serving_vector` has not beed called yet. This is not necessary for `get_serving_vector` method itself\n",
    "td_meta.init_prepared_statement() \n",
    "td_meta.serving_keys"
   ]
  },
  {
   "cell_type": "code",
   "execution_count": 5,
   "id": "dd805a04",
   "metadata": {},
   "outputs": [
    {
     "name": "stdout",
     "output_type": "stream",
     "text": [
      "+---------------+---------------+----------------+----------------+--------------+-----------------+-----------------+-----------------+-----------------+\n",
      "|avg_amt_per_10m|avg_amt_per_12h|stdev_amt_per_1h|num_trans_per_1h|avg_amt_per_1h|num_trans_per_12h|stdev_amt_per_12h|num_trans_per_10m|stdev_amt_per_10m|\n",
      "+---------------+---------------+----------------+----------------+--------------+-----------------+-----------------+-----------------+-----------------+\n",
      "|        2187.16|       863.5691|        548.8967|               3|        360.56|               22|        1866.4856|                1|              NaN|\n",
      "+---------------+---------------+----------------+----------------+--------------+-----------------+-----------------+-----------------+-----------------+\n",
      "only showing top 1 row"
     ]
    }
   ],
   "source": [
    "td_meta.show(1)"
   ]
  },
  {
   "cell_type": "markdown",
   "id": "21ef3e7b",
   "metadata": {},
   "source": [
    "For demo purposes lets prepare list of primary key values that we are interested in to buils feature vectore from online feature store"
   ]
  },
  {
   "cell_type": "code",
   "execution_count": 6,
   "id": "2c4d923f",
   "metadata": {},
   "outputs": [],
   "source": [
    "card_numbers = [\"4867010117638802\",\n",
    "                 \"4564139086560436\", \n",
    "                 \"4638396144844325\",\n",
    "                 \"4460285888258185\", \n",
    "                 \"4032763187099525\", \n",
    "                 \"4650661577010550\",\n",
    "                 \"4925013053127624\"\n",
    "                ]"
   ]
  },
  {
   "cell_type": "code",
   "execution_count": 9,
   "id": "9edc9105",
   "metadata": {},
   "outputs": [],
   "source": [
    "card_numbers = ['4369075906669451',\n",
    " '4023558713593186',\n",
    " '4897249935555210',\n",
    " '4056057388547395',\n",
    " '4382106450108944']"
   ]
  },
  {
   "cell_type": "code",
   "execution_count": 10,
   "id": "9f4518ef",
   "metadata": {},
   "outputs": [
    {
     "name": "stdout",
     "output_type": "stream",
     "text": [
      "[]\n",
      "[]\n",
      "[]\n",
      "[]\n",
      "[]"
     ]
    }
   ],
   "source": [
    "for card_number in card_numbers:\n",
    "    serving_vector = td_meta.get_serving_vector({'cc_num': card_number})\n",
    "    print (serving_vector)"
   ]
  },
  {
   "cell_type": "code",
   "execution_count": 11,
   "id": "71c9b43d",
   "metadata": {},
   "outputs": [
    {
     "name": "stdout",
     "output_type": "stream",
     "text": [
      "['ENTITY_TYPE', 'EXTERNAL', 'HOPSFS', '__class__', '__delattr__', '__dict__', '__dir__', '__doc__', '__eq__', '__format__', '__ge__', '__getattribute__', '__gt__', '__hash__', '__init__', '__init_subclass__', '__le__', '__lt__', '__module__', '__ne__', '__new__', '__reduce__', '__reduce_ex__', '__repr__', '__setattr__', '__sizeof__', '__str__', '__subclasshook__', '__weakref__', '_coalesce', '_data_format', '_description', '_feature_store_id', '_features', '_from_query', '_id', '_infer_training_dataset_type', '_label', '_location', '_name', '_prepared_statement_connection', '_prepared_statements', '_querydto', '_seed', '_serving_keys', '_splits', '_statistics_config', '_statistics_engine', '_storage_connector', '_training_dataset_api', '_training_dataset_engine', '_training_dataset_type', '_version', 'add_tag', 'coalesce', 'compute_statistics', 'data_format', 'delete', 'delete_tag', 'description', 'feature_store_id', 'from_response_json', 'get_query', 'get_serving_vector', 'get_statistics', 'get_tag', 'get_tags', 'id', 'init_prepared_statement', 'insert', 'json', 'label', 'location', 'name', 'prepared_statement_connection', 'prepared_statements', 'query', 'read', 'save', 'schema', 'seed', 'serving_keys', 'show', 'splits', 'statistics', 'statistics_config', 'storage_connector', 'tf_data', 'to_dict', 'update_from_response_json', 'update_statistics_config', 'version', 'write_options']"
     ]
    }
   ],
   "source": [
    "dir(td_meta)"
   ]
  },
  {
   "cell_type": "code",
   "execution_count": 18,
   "id": "7ca542f9",
   "metadata": {},
   "outputs": [],
   "source": [
    "o=td_meta.tf_data"
   ]
  },
  {
   "cell_type": "code",
   "execution_count": 25,
   "id": "da5134a3",
   "metadata": {},
   "outputs": [
    {
     "name": "stderr",
     "output_type": "stream",
     "text": [
      "An error was encountered:\n",
      "hdfs://10.0.0.216:8020/Projects/kafka/kafka_Training_Datasets/card_fraud_model_holuser20_1/card_fraud_model_holuser20/part-00000-0b85d394-6302-40a6-bb93-4b2f7d4124a9-c000.tfrecord; Unknown error 255\n",
      "Traceback (most recent call last):\n",
      "  File \"/srv/hops/anaconda/envs/theenv/lib/python3.7/site-packages/hsfs/core/tfdata_engine.py\", line 152, in tf_record_dataset\n",
      "    self._input_files, self._cycle_length\n",
      "  File \"/srv/hops/anaconda/envs/theenv/lib/python3.7/site-packages/hsfs/core/tfdata_engine.py\", line 376, in _get_tf_dataset\n",
      "    dataset, input_files\n",
      "  File \"/srv/hops/anaconda/envs/theenv/lib/python3.7/site-packages/hsfs/core/tfdata_engine.py\", line 330, in _create_tfrecord_feature_description\n",
      "    example = self._return_example_tf2(dataset)\n",
      "  File \"/srv/hops/anaconda/envs/theenv/lib/python3.7/site-packages/hsfs/core/tfdata_engine.py\", line 323, in _return_example_tf2\n",
      "    for raw_record in dataset.take(1):\n",
      "  File \"/srv/hops/anaconda/envs/theenv/lib/python3.7/site-packages/tensorflow/python/data/ops/iterator_ops.py\", line 747, in __next__\n",
      "    return self._next_internal()\n",
      "  File \"/srv/hops/anaconda/envs/theenv/lib/python3.7/site-packages/tensorflow/python/data/ops/iterator_ops.py\", line 739, in _next_internal\n",
      "    return structure.from_compatible_tensor_list(self._element_spec, ret)\n",
      "  File \"/srv/hops/anaconda/envs/theenv/lib/python3.7/contextlib.py\", line 130, in __exit__\n",
      "    self.gen.throw(type, value, traceback)\n",
      "  File \"/srv/hops/anaconda/envs/theenv/lib/python3.7/site-packages/tensorflow/python/eager/context.py\", line 2116, in execution_mode\n",
      "    executor_new.wait()\n",
      "  File \"/srv/hops/anaconda/envs/theenv/lib/python3.7/site-packages/tensorflow/python/eager/executor.py\", line 69, in wait\n",
      "    pywrap_tfe.TFE_ExecutorWaitForAllPendingNodes(self._handle)\n",
      "tensorflow.python.framework.errors_impl.UnknownError: hdfs://10.0.0.216:8020/Projects/kafka/kafka_Training_Datasets/card_fraud_model_holuser20_1/card_fraud_model_holuser20/part-00000-0b85d394-6302-40a6-bb93-4b2f7d4124a9-c000.tfrecord; Unknown error 255\n",
      "\n"
     ]
    }
   ],
   "source": [
    "td_meta.tf_data(target_name = \"avg_amt_per_10m\").tf_record_dataset(batch_size=1, num_epochs=1, process=True)"
   ]
  }
 ],
 "metadata": {
  "kernelspec": {
   "display_name": "PySpark",
   "language": "python",
   "name": "pysparkkernel"
  },
  "language_info": {
   "codemirror_mode": {
    "name": "python",
    "version": 3
   },
   "mimetype": "text/x-python",
   "name": "pyspark",
   "pygments_lexer": "python3"
  }
 },
 "nbformat": 4,
 "nbformat_minor": 5
}